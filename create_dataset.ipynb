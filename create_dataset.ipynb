{
  "cells": [
    {
      "cell_type": "markdown",
      "source": [
        "# create_dataset.ipynb\n",
        "\n",
        "Notebook prepared in order to create custom faded-CAPTCHA codes."
      ],
      "metadata": {
        "id": "fWETEEAtd_iS"
      }
    },
    {
      "cell_type": "markdown",
      "source": [
        "## Libraries"
      ],
      "metadata": {
        "id": "tnD64UwTdArp"
      }
    },
    {
      "cell_type": "code",
      "execution_count": null,
      "metadata": {
        "id": "37uKnI_1c7pK"
      },
      "outputs": [],
      "source": [
        "from captcha.image import ImageCaptcha\n",
        "import string\n",
        "import random\n",
        "import os\n",
        "from tqdm import tqdm\n",
        "import tarfile"
      ]
    },
    {
      "cell_type": "markdown",
      "source": [
        "## Define function for CAPTCHA generation"
      ],
      "metadata": {
        "id": "7__5p2LgdGLQ"
      }
    },
    {
      "cell_type": "code",
      "execution_count": null,
      "metadata": {
        "id": "OHIsGxM2c7pY"
      },
      "outputs": [],
      "source": [
        "def code_generator(size=6, chars=string.ascii_lowercase + string.digits):\n",
        "    \"\"\" Generates alphanumerical code of given length \"\"\"\n",
        "    return ''.join(random.choice(chars) for _ in range(size))"
      ]
    },
    {
      "cell_type": "markdown",
      "source": [
        "## Initialization"
      ],
      "metadata": {
        "id": "phYA2hSSdOnI"
      }
    },
    {
      "cell_type": "code",
      "source": [
        "# inicialize CAPTCHA basic:\n",
        "\n",
        "# inicialize CAPTCHA with custom fonts:\n",
        "fonts = ['/fonts/calibri.ttf','/fonts/times.ttf','/fonts/arial.ttf']\n",
        "image = ImageCaptcha(width = 180, height = 80, fonts = fonts) \n",
        "\n",
        "N = 200000                       # number of generated codes\n",
        "letters = 6                      # length of captcha code\n",
        "folder = 'train'                 # folder to be stored"
      ],
      "metadata": {
        "id": "wIpt9h0wdoXu"
      },
      "execution_count": null,
      "outputs": []
    },
    {
      "cell_type": "markdown",
      "source": [
        "## CAPTCHA generation"
      ],
      "metadata": {
        "id": "TLKktd56du1Q"
      }
    },
    {
      "cell_type": "code",
      "execution_count": null,
      "metadata": {
        "id": "HL3PzoAHc7pb",
        "outputId": "c2e44dcf-cd6f-4f80-c17e-4252476fa345"
      },
      "outputs": [
        {
          "name": "stderr",
          "output_type": "stream",
          "text": [
            "100%|██████████| 200000/200000 [40:05<00:00, 83.13it/s]  \n"
          ]
        }
      ],
      "source": [
        "# check if directory exist\n",
        "if not os.path.exists('data\\\\{}'.format(folder)):\n",
        "    os.makedirs('data\\\\{}'.format(folder))\n",
        "\n",
        "# generate captcha codes\n",
        "for i in tqdm(range(N)):\n",
        "    label = code_generator(letters)\n",
        "    # save in separate png files:\n",
        "    image.write(label,'data\\\\{}\\\\{}.png'.format(folder, label))"
      ]
    },
    {
      "cell_type": "code",
      "execution_count": null,
      "metadata": {
        "id": "6T041RIMc7ph"
      },
      "outputs": [],
      "source": [
        "# archive folder to tar.gz\n",
        "with tarfile.open('data\\\\captcha_{}.tar.gz'.format(folder), \"w:gz\") as tar:\n",
        "    tar.add('data\\\\{}'.format(folder), arcname=os.path.basename('data\\\\{}'.format(folder)))"
      ]
    }
  ],
  "metadata": {
    "interpreter": {
      "hash": "4c27e533d547b9c43f3c33f32ccf1b80b16d8fa749a437b18f3a9b1fb9c6d598"
    },
    "kernelspec": {
      "display_name": "Python 3.9.7 64-bit (windows store)",
      "name": "python3"
    },
    "language_info": {
      "codemirror_mode": {
        "name": "ipython",
        "version": 3
      },
      "file_extension": ".py",
      "mimetype": "text/x-python",
      "name": "python",
      "nbconvert_exporter": "python",
      "pygments_lexer": "ipython3",
      "version": "3.9.9"
    },
    "orig_nbformat": 4,
    "colab": {
      "name": "create_dataset.ipynb",
      "provenance": [],
      "toc_visible": true
    }
  },
  "nbformat": 4,
  "nbformat_minor": 0
}