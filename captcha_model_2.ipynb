{
  "nbformat": 4,
  "nbformat_minor": 0,
  "metadata": {
    "colab": {
      "name": "captcha_model_2.ipynb",
      "provenance": [],
      "collapsed_sections": [],
      "include_colab_link": true
    },
    "kernelspec": {
      "name": "python3",
      "display_name": "Python 3"
    },
    "language_info": {
      "name": "python"
    },
    "accelerator": "GPU",
    "widgets": {
      "application/vnd.jupyter.widget-state+json": {
        "829fc9c51dc4405199f3be8d7ff8a80c": {
          "model_module": "@jupyter-widgets/controls",
          "model_name": "HBoxModel",
          "model_module_version": "1.5.0",
          "state": {
            "_view_name": "HBoxView",
            "_dom_classes": [],
            "_model_name": "HBoxModel",
            "_view_module": "@jupyter-widgets/controls",
            "_model_module_version": "1.5.0",
            "_view_count": null,
            "_view_module_version": "1.5.0",
            "box_style": "",
            "layout": "IPY_MODEL_03e457740d394273aead3fd981909a7f",
            "_model_module": "@jupyter-widgets/controls",
            "children": [
              "IPY_MODEL_ebbfd4ba10b446ce8d7f92e7d82f8edb",
              "IPY_MODEL_1627d2199ce54f46a40051dc3b960a91",
              "IPY_MODEL_1c1391a30fc54c45be1da42b0f2278c3"
            ]
          }
        },
        "03e457740d394273aead3fd981909a7f": {
          "model_module": "@jupyter-widgets/base",
          "model_name": "LayoutModel",
          "model_module_version": "1.2.0",
          "state": {
            "_view_name": "LayoutView",
            "grid_template_rows": null,
            "right": null,
            "justify_content": null,
            "_view_module": "@jupyter-widgets/base",
            "overflow": null,
            "_model_module_version": "1.2.0",
            "_view_count": null,
            "flex_flow": null,
            "width": null,
            "min_width": null,
            "border": null,
            "align_items": null,
            "bottom": null,
            "_model_module": "@jupyter-widgets/base",
            "top": null,
            "grid_column": null,
            "overflow_y": null,
            "overflow_x": null,
            "grid_auto_flow": null,
            "grid_area": null,
            "grid_template_columns": null,
            "flex": null,
            "_model_name": "LayoutModel",
            "justify_items": null,
            "grid_row": null,
            "max_height": null,
            "align_content": null,
            "visibility": null,
            "align_self": null,
            "height": null,
            "min_height": null,
            "padding": null,
            "grid_auto_rows": null,
            "grid_gap": null,
            "max_width": null,
            "order": null,
            "_view_module_version": "1.2.0",
            "grid_template_areas": null,
            "object_position": null,
            "object_fit": null,
            "grid_auto_columns": null,
            "margin": null,
            "display": null,
            "left": null
          }
        },
        "ebbfd4ba10b446ce8d7f92e7d82f8edb": {
          "model_module": "@jupyter-widgets/controls",
          "model_name": "HTMLModel",
          "model_module_version": "1.5.0",
          "state": {
            "_view_name": "HTMLView",
            "style": "IPY_MODEL_e1b205a25d044a7580ea663dd8d37e24",
            "_dom_classes": [],
            "description": "",
            "_model_name": "HTMLModel",
            "placeholder": "​",
            "_view_module": "@jupyter-widgets/controls",
            "_model_module_version": "1.5.0",
            "value": "100%",
            "_view_count": null,
            "_view_module_version": "1.5.0",
            "description_tooltip": null,
            "_model_module": "@jupyter-widgets/controls",
            "layout": "IPY_MODEL_0fa14c13c6fc44989f5c2ad7cf39b43e"
          }
        },
        "1627d2199ce54f46a40051dc3b960a91": {
          "model_module": "@jupyter-widgets/controls",
          "model_name": "FloatProgressModel",
          "model_module_version": "1.5.0",
          "state": {
            "_view_name": "ProgressView",
            "style": "IPY_MODEL_730ef1761f4d486fad81131f8b1489e5",
            "_dom_classes": [],
            "description": "",
            "_model_name": "FloatProgressModel",
            "bar_style": "success",
            "max": 46830571,
            "_view_module": "@jupyter-widgets/controls",
            "_model_module_version": "1.5.0",
            "value": 46830571,
            "_view_count": null,
            "_view_module_version": "1.5.0",
            "orientation": "horizontal",
            "min": 0,
            "description_tooltip": null,
            "_model_module": "@jupyter-widgets/controls",
            "layout": "IPY_MODEL_a6b4807d01804528a2d32c8c4b45f5e3"
          }
        },
        "1c1391a30fc54c45be1da42b0f2278c3": {
          "model_module": "@jupyter-widgets/controls",
          "model_name": "HTMLModel",
          "model_module_version": "1.5.0",
          "state": {
            "_view_name": "HTMLView",
            "style": "IPY_MODEL_0246d020025d4cae81ee87c9012f9f7f",
            "_dom_classes": [],
            "description": "",
            "_model_name": "HTMLModel",
            "placeholder": "​",
            "_view_module": "@jupyter-widgets/controls",
            "_model_module_version": "1.5.0",
            "value": " 44.7M/44.7M [00:01&lt;00:00, 49.4MB/s]",
            "_view_count": null,
            "_view_module_version": "1.5.0",
            "description_tooltip": null,
            "_model_module": "@jupyter-widgets/controls",
            "layout": "IPY_MODEL_6c87dbde476c49898433d3ab3efaa1b9"
          }
        },
        "e1b205a25d044a7580ea663dd8d37e24": {
          "model_module": "@jupyter-widgets/controls",
          "model_name": "DescriptionStyleModel",
          "model_module_version": "1.5.0",
          "state": {
            "_view_name": "StyleView",
            "_model_name": "DescriptionStyleModel",
            "description_width": "",
            "_view_module": "@jupyter-widgets/base",
            "_model_module_version": "1.5.0",
            "_view_count": null,
            "_view_module_version": "1.2.0",
            "_model_module": "@jupyter-widgets/controls"
          }
        },
        "0fa14c13c6fc44989f5c2ad7cf39b43e": {
          "model_module": "@jupyter-widgets/base",
          "model_name": "LayoutModel",
          "model_module_version": "1.2.0",
          "state": {
            "_view_name": "LayoutView",
            "grid_template_rows": null,
            "right": null,
            "justify_content": null,
            "_view_module": "@jupyter-widgets/base",
            "overflow": null,
            "_model_module_version": "1.2.0",
            "_view_count": null,
            "flex_flow": null,
            "width": null,
            "min_width": null,
            "border": null,
            "align_items": null,
            "bottom": null,
            "_model_module": "@jupyter-widgets/base",
            "top": null,
            "grid_column": null,
            "overflow_y": null,
            "overflow_x": null,
            "grid_auto_flow": null,
            "grid_area": null,
            "grid_template_columns": null,
            "flex": null,
            "_model_name": "LayoutModel",
            "justify_items": null,
            "grid_row": null,
            "max_height": null,
            "align_content": null,
            "visibility": null,
            "align_self": null,
            "height": null,
            "min_height": null,
            "padding": null,
            "grid_auto_rows": null,
            "grid_gap": null,
            "max_width": null,
            "order": null,
            "_view_module_version": "1.2.0",
            "grid_template_areas": null,
            "object_position": null,
            "object_fit": null,
            "grid_auto_columns": null,
            "margin": null,
            "display": null,
            "left": null
          }
        },
        "730ef1761f4d486fad81131f8b1489e5": {
          "model_module": "@jupyter-widgets/controls",
          "model_name": "ProgressStyleModel",
          "model_module_version": "1.5.0",
          "state": {
            "_view_name": "StyleView",
            "_model_name": "ProgressStyleModel",
            "description_width": "",
            "_view_module": "@jupyter-widgets/base",
            "_model_module_version": "1.5.0",
            "_view_count": null,
            "_view_module_version": "1.2.0",
            "bar_color": null,
            "_model_module": "@jupyter-widgets/controls"
          }
        },
        "a6b4807d01804528a2d32c8c4b45f5e3": {
          "model_module": "@jupyter-widgets/base",
          "model_name": "LayoutModel",
          "model_module_version": "1.2.0",
          "state": {
            "_view_name": "LayoutView",
            "grid_template_rows": null,
            "right": null,
            "justify_content": null,
            "_view_module": "@jupyter-widgets/base",
            "overflow": null,
            "_model_module_version": "1.2.0",
            "_view_count": null,
            "flex_flow": null,
            "width": null,
            "min_width": null,
            "border": null,
            "align_items": null,
            "bottom": null,
            "_model_module": "@jupyter-widgets/base",
            "top": null,
            "grid_column": null,
            "overflow_y": null,
            "overflow_x": null,
            "grid_auto_flow": null,
            "grid_area": null,
            "grid_template_columns": null,
            "flex": null,
            "_model_name": "LayoutModel",
            "justify_items": null,
            "grid_row": null,
            "max_height": null,
            "align_content": null,
            "visibility": null,
            "align_self": null,
            "height": null,
            "min_height": null,
            "padding": null,
            "grid_auto_rows": null,
            "grid_gap": null,
            "max_width": null,
            "order": null,
            "_view_module_version": "1.2.0",
            "grid_template_areas": null,
            "object_position": null,
            "object_fit": null,
            "grid_auto_columns": null,
            "margin": null,
            "display": null,
            "left": null
          }
        },
        "0246d020025d4cae81ee87c9012f9f7f": {
          "model_module": "@jupyter-widgets/controls",
          "model_name": "DescriptionStyleModel",
          "model_module_version": "1.5.0",
          "state": {
            "_view_name": "StyleView",
            "_model_name": "DescriptionStyleModel",
            "description_width": "",
            "_view_module": "@jupyter-widgets/base",
            "_model_module_version": "1.5.0",
            "_view_count": null,
            "_view_module_version": "1.2.0",
            "_model_module": "@jupyter-widgets/controls"
          }
        },
        "6c87dbde476c49898433d3ab3efaa1b9": {
          "model_module": "@jupyter-widgets/base",
          "model_name": "LayoutModel",
          "model_module_version": "1.2.0",
          "state": {
            "_view_name": "LayoutView",
            "grid_template_rows": null,
            "right": null,
            "justify_content": null,
            "_view_module": "@jupyter-widgets/base",
            "overflow": null,
            "_model_module_version": "1.2.0",
            "_view_count": null,
            "flex_flow": null,
            "width": null,
            "min_width": null,
            "border": null,
            "align_items": null,
            "bottom": null,
            "_model_module": "@jupyter-widgets/base",
            "top": null,
            "grid_column": null,
            "overflow_y": null,
            "overflow_x": null,
            "grid_auto_flow": null,
            "grid_area": null,
            "grid_template_columns": null,
            "flex": null,
            "_model_name": "LayoutModel",
            "justify_items": null,
            "grid_row": null,
            "max_height": null,
            "align_content": null,
            "visibility": null,
            "align_self": null,
            "height": null,
            "min_height": null,
            "padding": null,
            "grid_auto_rows": null,
            "grid_gap": null,
            "max_width": null,
            "order": null,
            "_view_module_version": "1.2.0",
            "grid_template_areas": null,
            "object_position": null,
            "object_fit": null,
            "grid_auto_columns": null,
            "margin": null,
            "display": null,
            "left": null
          }
        }
      }
    }
  },
  "cells": [
    {
      "cell_type": "markdown",
      "metadata": {
        "id": "view-in-github",
        "colab_type": "text"
      },
      "source": [
        "<a href=\"https://colab.research.google.com/github/Strojove-uceni/final-projects-i_am_not_a_robot/blob/main/captcha_model_2.ipynb\" target=\"_parent\"><img src=\"https://colab.research.google.com/assets/colab-badge.svg\" alt=\"Open In Colab\"/></a>"
      ]
    },
    {
      "cell_type": "code",
      "execution_count": null,
      "metadata": {
        "colab": {
          "base_uri": "https://localhost:8080/"
        },
        "id": "m7HvZC34h_W0",
        "outputId": "102ca8e2-6fdd-4012-deef-68cb67582a31"
      },
      "outputs": [
        {
          "output_type": "stream",
          "name": "stdout",
          "text": [
            "Collecting patool\n",
            "  Downloading patool-1.12-py2.py3-none-any.whl (77 kB)\n",
            "\u001b[?25l\r\u001b[K     |████▎                           | 10 kB 19.2 MB/s eta 0:00:01\r\u001b[K     |████████▌                       | 20 kB 22.0 MB/s eta 0:00:01\r\u001b[K     |████████████▊                   | 30 kB 24.1 MB/s eta 0:00:01\r\u001b[K     |█████████████████               | 40 kB 23.9 MB/s eta 0:00:01\r\u001b[K     |█████████████████████▏          | 51 kB 14.7 MB/s eta 0:00:01\r\u001b[K     |█████████████████████████▍      | 61 kB 14.8 MB/s eta 0:00:01\r\u001b[K     |█████████████████████████████▋  | 71 kB 12.0 MB/s eta 0:00:01\r\u001b[K     |████████████████████████████████| 77 kB 3.9 MB/s \n",
            "\u001b[?25hInstalling collected packages: patool\n",
            "Successfully installed patool-1.12\n",
            "Collecting pyunpack\n",
            "  Downloading pyunpack-0.2.2-py2.py3-none-any.whl (3.8 kB)\n",
            "Collecting entrypoint2\n",
            "  Downloading entrypoint2-0.2.4-py3-none-any.whl (6.2 kB)\n",
            "Collecting easyprocess\n",
            "  Downloading EasyProcess-0.3-py2.py3-none-any.whl (7.9 kB)\n",
            "Installing collected packages: entrypoint2, easyprocess, pyunpack\n",
            "Successfully installed easyprocess-0.3 entrypoint2-0.2.4 pyunpack-0.2.2\n",
            "Collecting captcha\n",
            "  Downloading captcha-0.3-py3-none-any.whl (101 kB)\n",
            "\u001b[K     |████████████████████████████████| 101 kB 5.7 MB/s \n",
            "\u001b[?25hRequirement already satisfied: Pillow in /usr/local/lib/python3.7/dist-packages (from captcha) (7.1.2)\n",
            "Installing collected packages: captcha\n",
            "Successfully installed captcha-0.3\n"
          ]
        }
      ],
      "source": [
        "# install and load packages\n",
        "! pip install patool\n",
        "! pip install pyunpack\n",
        "! pip install captcha\n",
        "\n",
        "import argparse\n",
        "import os\n",
        "import random\n",
        "import requests\n",
        "import zipfile\n",
        "import errno\n",
        "import torch\n",
        "import torch.nn as nn\n",
        "import torch.optim as optim\n",
        "import torch.utils.data\n",
        "import torchvision.datasets as dset\n",
        "import torchvision.transforms as transforms\n",
        "import torchvision.utils as vutils\n",
        "import numpy as np\n",
        "import pandas as pd\n",
        "import matplotlib.pyplot as plt\n",
        "import matplotlib.image as mpimg\n",
        "from pyunpack import Archive\n",
        "import glob\n",
        "import string\n",
        "from PIL import Image\n",
        "from tqdm import tqdm\n",
        "import torch.nn.functional \n",
        "from sklearn.model_selection import train_test_split\n",
        "from sklearn.metrics import accuracy_score\n",
        "from captcha.image import ImageCaptcha\n",
        "import string\n",
        "import random\n"
      ]
    },
    {
      "cell_type": "code",
      "source": [
        "# connect to google drive for saving models\n",
        "from google.colab import drive\n",
        "drive.mount('/content/drive')"
      ],
      "metadata": {
        "colab": {
          "base_uri": "https://localhost:8080/"
        },
        "id": "Nk9H37H0mBEK",
        "outputId": "1a8c48e9-58a1-4330-cba1-e43a21f40650"
      },
      "execution_count": null,
      "outputs": [
        {
          "output_type": "stream",
          "name": "stdout",
          "text": [
            "Mounted at /content/drive\n"
          ]
        }
      ]
    },
    {
      "cell_type": "code",
      "source": [
        "device = 'cuda' if torch.cuda.is_available() else 'cpu'\n",
        "\n",
        "n_cudas = torch.cuda.device_count()\n",
        "\n",
        "print(f'We are now using {device}. There are {n_cudas} available gpus.')\n",
        "\n",
        "if torch.cuda.is_available():\n",
        "    print(f'{torch.cuda.get_device_name(0)}')"
      ],
      "metadata": {
        "colab": {
          "base_uri": "https://localhost:8080/"
        },
        "id": "VGfL-1O056pu",
        "outputId": "2fbafd07-9f6e-453e-cafc-110553f84443"
      },
      "execution_count": null,
      "outputs": [
        {
          "output_type": "stream",
          "name": "stdout",
          "text": [
            "We are now using cuda. There are 1 available gpus.\n",
            "Tesla K80\n"
          ]
        }
      ]
    },
    {
      "cell_type": "markdown",
      "source": [
        "# Data preprocessing"
      ],
      "metadata": {
        "id": "4EvQ5_oAcwNb"
      }
    },
    {
      "cell_type": "code",
      "source": [
        "# new\n",
        "# download files from google drive\n",
        "\n",
        "# load test data\n",
        "!gdown --id 1-74h6oEnYm_8uCDrDNvyO2iy_LSSlLsi\n",
        "\n",
        "! mkdir 'test'\n",
        "\n",
        "Archive('captcha_test.tar.gz').extractall('test')\n",
        "\n",
        "test_labels = os.listdir('test/test')\n",
        "print('test files:', len(test_labels))"
      ],
      "metadata": {
        "colab": {
          "base_uri": "https://localhost:8080/"
        },
        "id": "d_ec29juMUA6",
        "outputId": "890808e1-d714-4b72-c70f-3ed61aab7cca"
      },
      "execution_count": null,
      "outputs": [
        {
          "output_type": "stream",
          "name": "stdout",
          "text": [
            "Downloading...\n",
            "From: https://drive.google.com/uc?id=1-74h6oEnYm_8uCDrDNvyO2iy_LSSlLsi\n",
            "To: /content/captcha_test.tar.gz\n",
            "100% 470M/470M [00:02<00:00, 196MB/s]\n",
            "test files: 50000\n"
          ]
        }
      ]
    },
    {
      "cell_type": "code",
      "source": [
        "def code_generator(size=6, chars=string.ascii_lowercase + string.digits):\n",
        "    \"\"\" Generates alphanumerical code of given length \"\"\"\n",
        "    return ''.join(random.choice(chars) for _ in range(size))"
      ],
      "metadata": {
        "id": "K7iMwCUwM_cK"
      },
      "execution_count": null,
      "outputs": []
    },
    {
      "cell_type": "markdown",
      "source": [
        "## Create Data Loader"
      ],
      "metadata": {
        "id": "lqXCb4a6rXbk"
      }
    },
    {
      "cell_type": "code",
      "source": [
        "workers = 2                           # worker threads for loading the data with the DataLoader\n",
        "batch_size = 256                      # size of batch\n",
        "image_size = [60, 180]                # size of imput images\n",
        "nc = 3                                # number of color channels in the input images\n",
        "\n",
        "# normalization parameters\n",
        "normalize_mean = (0.485, 0.456, 0.406)\n",
        "normalize_std = (0.229, 0.224, 0.225)\n",
        "\n",
        "# for reproducibility\n",
        "manualSeed = 999\n",
        "random.seed(manualSeed)\n",
        "torch.manual_seed(manualSeed)\n",
        "\n",
        "captcha_len = 6"
      ],
      "metadata": {
        "id": "DVRW8F9vrWZA"
      },
      "execution_count": null,
      "outputs": []
    },
    {
      "cell_type": "code",
      "source": [
        "class Custom_Dataset(torch.utils.data.Dataset):\n",
        "    \n",
        "    def __init__(self, data_dir, data_labels):\n",
        "        self.data_dir = data_dir\n",
        "        self.data_labels = data_labels\n",
        "        \n",
        "    def __len__(self):\n",
        "        return len(self.data_labels)\n",
        "    \n",
        "    def __getitem__(self, index):\n",
        "        image_label = self.data_labels[index]\n",
        "        image_fp = os.path.join(self.data_dir, image_label)\n",
        "        image = Image.open(image_fp).convert('RGB')\n",
        "        image = self.transform(image)\n",
        "        text = image_label.split(\".\")[0]\n",
        "        return image, text\n",
        "    \n",
        "    def transform(self, image):\n",
        "        \n",
        "        transform_ops = transforms.Compose([\n",
        "            transforms.Resize(image_size),\n",
        "            transforms.CenterCrop(image_size),\n",
        "            transforms.ToTensor(),\n",
        "            transforms.Normalize(normalize_mean, normalize_std),\n",
        "        ])\n",
        "        return transform_ops(image)"
      ],
      "metadata": {
        "id": "-0jQgJQcrfbL"
      },
      "execution_count": null,
      "outputs": []
    },
    {
      "cell_type": "code",
      "source": [
        "# decide which device we want to run on\n",
        "device = torch.device(\"cuda:0\" if torch.cuda.is_available() else \"cpu\")"
      ],
      "metadata": {
        "id": "f20fA4dgwYz7"
      },
      "execution_count": null,
      "outputs": []
    },
    {
      "cell_type": "code",
      "source": [
        "def UnNormalizeBatch(batch):\n",
        "    for i in range(batch.shape[3]):\n",
        "       batch[:,:,:,i] = (batch[:,:,:,i] * normalize_std[i]) + normalize_mean[i]\n",
        "\n",
        "    return batch"
      ],
      "metadata": {
        "id": "9Qnp4huc3rPX"
      },
      "execution_count": null,
      "outputs": []
    },
    {
      "cell_type": "markdown",
      "source": [
        "# Creating model"
      ],
      "metadata": {
        "id": "smbtQNMSszxr"
      }
    },
    {
      "cell_type": "code",
      "source": [
        "# these are all symbols the captchas will have\n",
        "symbols = string.ascii_uppercase + string.ascii_lowercase + string.digits  \n",
        "symbols_char = {k:v for k,v in enumerate(symbols, start=0)}\n",
        "symbols_idx = {v:k for k,v in symbols_char.items()}\n",
        "num_symbols = len(symbols_idx)"
      ],
      "metadata": {
        "id": "eLGAWbIoWmiz"
      },
      "execution_count": null,
      "outputs": []
    },
    {
      "cell_type": "markdown",
      "source": [
        "## Define model with resnet 18"
      ],
      "metadata": {
        "id": "Zz1EM2hsThCg"
      }
    },
    {
      "cell_type": "code",
      "source": [
        "rnn_hidden_size = 256"
      ],
      "metadata": {
        "id": "ZtEFZYVNTjlz"
      },
      "execution_count": null,
      "outputs": []
    },
    {
      "cell_type": "code",
      "source": [
        "resnet = torch.hub.load('pytorch/vision:v0.10.0', 'resnet18', pretrained=True)"
      ],
      "metadata": {
        "colab": {
          "base_uri": "https://localhost:8080/",
          "height": 84,
          "referenced_widgets": [
            "829fc9c51dc4405199f3be8d7ff8a80c",
            "03e457740d394273aead3fd981909a7f",
            "ebbfd4ba10b446ce8d7f92e7d82f8edb",
            "1627d2199ce54f46a40051dc3b960a91",
            "1c1391a30fc54c45be1da42b0f2278c3",
            "e1b205a25d044a7580ea663dd8d37e24",
            "0fa14c13c6fc44989f5c2ad7cf39b43e",
            "730ef1761f4d486fad81131f8b1489e5",
            "a6b4807d01804528a2d32c8c4b45f5e3",
            "0246d020025d4cae81ee87c9012f9f7f",
            "6c87dbde476c49898433d3ab3efaa1b9"
          ]
        },
        "id": "h_EgsYerm-Gk",
        "outputId": "dc81c2de-83d3-4be3-ec38-0baf2d65cd07"
      },
      "execution_count": null,
      "outputs": [
        {
          "output_type": "stream",
          "name": "stderr",
          "text": [
            "Downloading: \"https://github.com/pytorch/vision/archive/v0.10.0.zip\" to /root/.cache/torch/hub/v0.10.0.zip\n",
            "Downloading: \"https://download.pytorch.org/models/resnet18-f37072fd.pth\" to /root/.cache/torch/hub/checkpoints/resnet18-f37072fd.pth\n"
          ]
        },
        {
          "output_type": "display_data",
          "data": {
            "application/vnd.jupyter.widget-view+json": {
              "model_id": "829fc9c51dc4405199f3be8d7ff8a80c",
              "version_minor": 0,
              "version_major": 2
            },
            "text/plain": [
              "  0%|          | 0.00/44.7M [00:00<?, ?B/s]"
            ]
          },
          "metadata": {}
        }
      ]
    },
    {
      "cell_type": "code",
      "source": [
        "class CTC(nn.Module):\n",
        "    \n",
        "    def __init__(self, num_symbols, rnn_hidden_size=256, dropout=0.1):\n",
        "        \n",
        "        super(CTC, self).__init__()\n",
        "        self.num_chars = num_symbols\n",
        "        self.rnn_hidden_size = rnn_hidden_size\n",
        "        self.dropout = dropout\n",
        "        \n",
        "        # CNN Part 1\n",
        "        resnet_modules = list(resnet.children())[:-3]\n",
        "        self.cnn_p1 = nn.Sequential(*resnet_modules)\n",
        "        \n",
        "        # CNN Part 2 - for resnet18\n",
        "        self.cnn_p2 = nn.Sequential(\n",
        "            nn.Conv2d(256, 256, kernel_size=(3,6), stride=1, padding=1),\n",
        "            nn.BatchNorm2d(256),\n",
        "            nn.ReLU(inplace=True)\n",
        "        )\n",
        "        self.linear1 = nn.Linear(1024, 256)\n",
        "\n",
        "        \n",
        "        # RNN\n",
        "        self.rnn1 = nn.GRU(input_size=rnn_hidden_size, \n",
        "                            hidden_size=rnn_hidden_size,\n",
        "                            bidirectional=True, \n",
        "                            batch_first=True)\n",
        "        self.rnn2 = nn.GRU(input_size=rnn_hidden_size, \n",
        "                            hidden_size=rnn_hidden_size,\n",
        "                            bidirectional=True, \n",
        "                            batch_first=True)\n",
        "        self.linear2 = nn.Linear(self.rnn_hidden_size*2, num_symbols)\n",
        "        \n",
        "    def forward(self, batch):\n",
        "        \n",
        "        batch = self.cnn_p1(batch)\n",
        "        # print(batch.size()) # torch.Size([-1, 256, 4, 13])\n",
        "        \n",
        "        batch = self.cnn_p2(batch) # [batch_size, channels, height, width]\n",
        "        # print(batch.size())# torch.Size([-1, 256, 4, 10])\n",
        "        \n",
        "        batch = batch.permute(0, 3, 1, 2) # [batch_size, width, channels, height]\n",
        "        # print(batch.size()) # torch.Size([-1, 10, 256, 4])\n",
        "         \n",
        "        batch_size = batch.size(0)\n",
        "        T = batch.size(1)\n",
        "        batch = batch.view(batch_size, T, -1) # [batch_size, T==width, num_features==channels*height]\n",
        "        # print(batch.size()) # torch.Size([-1, 10, 1024])\n",
        "        \n",
        "        batch = self.linear1(batch)\n",
        "        # print(batch.size()) # torch.Size([-1, 10, 256])\n",
        "        \n",
        "        batch, hidden = self.rnn1(batch)\n",
        "        feature_size = batch.size(2)\n",
        "        batch = batch[:, :, :feature_size//2] + batch[:, :, feature_size//2:]\n",
        "        # print(batch.size()) # torch.Size([-1, 10, 256])\n",
        "        \n",
        "        batch, hidden = self.rnn2(batch)\n",
        "        # print(batch.size()) # torch.Size([-1, 10, 512])\n",
        "        \n",
        "        batch = self.linear2(batch)\n",
        "        # print(batch.size()) # torch.Size([-1, 10, 20])\n",
        "        \n",
        "        batch = batch.permute(1, 0, 2) # [T==10, batch_size, num_classes==num_features]\n",
        "        # print(batch.size()) # torch.Size([10, -1, 20])\n",
        "        \n",
        "        return batch"
      ],
      "metadata": {
        "id": "hzBk2yTVn4vD"
      },
      "execution_count": null,
      "outputs": []
    },
    {
      "cell_type": "code",
      "source": [
        "def weights_init(m):\n",
        "    classname = m.__class__.__name__\n",
        "    if type(m) in [nn.Linear, nn.Conv2d, nn.Conv1d]:\n",
        "        torch.nn.init.xavier_uniform_(m.weight)\n",
        "        if m.bias is not None:\n",
        "            m.bias.data.fill_(0.01)\n",
        "    elif classname.find('BatchNorm') != -1:\n",
        "        m.weight.data.normal_(1.0, 0.02)\n",
        "        m.bias.data.fill_(0)"
      ],
      "metadata": {
        "id": "6kWHuSQEoxOw"
      },
      "execution_count": null,
      "outputs": []
    },
    {
      "cell_type": "code",
      "source": [
        "ctc = CTC(num_symbols, rnn_hidden_size=rnn_hidden_size)\n",
        "ctc.apply(weights_init)\n",
        "ctc = ctc.to(device)"
      ],
      "metadata": {
        "id": "52lBNN74o1IW"
      },
      "execution_count": null,
      "outputs": []
    },
    {
      "cell_type": "code",
      "source": [
        "ctc"
      ],
      "metadata": {
        "colab": {
          "base_uri": "https://localhost:8080/"
        },
        "id": "mGTBkGu9o-_3",
        "outputId": "c8f08c24-a598-473a-d59b-aeffb7c7f17a"
      },
      "execution_count": null,
      "outputs": [
        {
          "output_type": "execute_result",
          "data": {
            "text/plain": [
              "CTC(\n",
              "  (cnn_p1): Sequential(\n",
              "    (0): Conv2d(3, 64, kernel_size=(7, 7), stride=(2, 2), padding=(3, 3), bias=False)\n",
              "    (1): BatchNorm2d(64, eps=1e-05, momentum=0.1, affine=True, track_running_stats=True)\n",
              "    (2): ReLU(inplace=True)\n",
              "    (3): MaxPool2d(kernel_size=3, stride=2, padding=1, dilation=1, ceil_mode=False)\n",
              "    (4): Sequential(\n",
              "      (0): BasicBlock(\n",
              "        (conv1): Conv2d(64, 64, kernel_size=(3, 3), stride=(1, 1), padding=(1, 1), bias=False)\n",
              "        (bn1): BatchNorm2d(64, eps=1e-05, momentum=0.1, affine=True, track_running_stats=True)\n",
              "        (relu): ReLU(inplace=True)\n",
              "        (conv2): Conv2d(64, 64, kernel_size=(3, 3), stride=(1, 1), padding=(1, 1), bias=False)\n",
              "        (bn2): BatchNorm2d(64, eps=1e-05, momentum=0.1, affine=True, track_running_stats=True)\n",
              "      )\n",
              "      (1): BasicBlock(\n",
              "        (conv1): Conv2d(64, 64, kernel_size=(3, 3), stride=(1, 1), padding=(1, 1), bias=False)\n",
              "        (bn1): BatchNorm2d(64, eps=1e-05, momentum=0.1, affine=True, track_running_stats=True)\n",
              "        (relu): ReLU(inplace=True)\n",
              "        (conv2): Conv2d(64, 64, kernel_size=(3, 3), stride=(1, 1), padding=(1, 1), bias=False)\n",
              "        (bn2): BatchNorm2d(64, eps=1e-05, momentum=0.1, affine=True, track_running_stats=True)\n",
              "      )\n",
              "    )\n",
              "    (5): Sequential(\n",
              "      (0): BasicBlock(\n",
              "        (conv1): Conv2d(64, 128, kernel_size=(3, 3), stride=(2, 2), padding=(1, 1), bias=False)\n",
              "        (bn1): BatchNorm2d(128, eps=1e-05, momentum=0.1, affine=True, track_running_stats=True)\n",
              "        (relu): ReLU(inplace=True)\n",
              "        (conv2): Conv2d(128, 128, kernel_size=(3, 3), stride=(1, 1), padding=(1, 1), bias=False)\n",
              "        (bn2): BatchNorm2d(128, eps=1e-05, momentum=0.1, affine=True, track_running_stats=True)\n",
              "        (downsample): Sequential(\n",
              "          (0): Conv2d(64, 128, kernel_size=(1, 1), stride=(2, 2), bias=False)\n",
              "          (1): BatchNorm2d(128, eps=1e-05, momentum=0.1, affine=True, track_running_stats=True)\n",
              "        )\n",
              "      )\n",
              "      (1): BasicBlock(\n",
              "        (conv1): Conv2d(128, 128, kernel_size=(3, 3), stride=(1, 1), padding=(1, 1), bias=False)\n",
              "        (bn1): BatchNorm2d(128, eps=1e-05, momentum=0.1, affine=True, track_running_stats=True)\n",
              "        (relu): ReLU(inplace=True)\n",
              "        (conv2): Conv2d(128, 128, kernel_size=(3, 3), stride=(1, 1), padding=(1, 1), bias=False)\n",
              "        (bn2): BatchNorm2d(128, eps=1e-05, momentum=0.1, affine=True, track_running_stats=True)\n",
              "      )\n",
              "    )\n",
              "    (6): Sequential(\n",
              "      (0): BasicBlock(\n",
              "        (conv1): Conv2d(128, 256, kernel_size=(3, 3), stride=(2, 2), padding=(1, 1), bias=False)\n",
              "        (bn1): BatchNorm2d(256, eps=1e-05, momentum=0.1, affine=True, track_running_stats=True)\n",
              "        (relu): ReLU(inplace=True)\n",
              "        (conv2): Conv2d(256, 256, kernel_size=(3, 3), stride=(1, 1), padding=(1, 1), bias=False)\n",
              "        (bn2): BatchNorm2d(256, eps=1e-05, momentum=0.1, affine=True, track_running_stats=True)\n",
              "        (downsample): Sequential(\n",
              "          (0): Conv2d(128, 256, kernel_size=(1, 1), stride=(2, 2), bias=False)\n",
              "          (1): BatchNorm2d(256, eps=1e-05, momentum=0.1, affine=True, track_running_stats=True)\n",
              "        )\n",
              "      )\n",
              "      (1): BasicBlock(\n",
              "        (conv1): Conv2d(256, 256, kernel_size=(3, 3), stride=(1, 1), padding=(1, 1), bias=False)\n",
              "        (bn1): BatchNorm2d(256, eps=1e-05, momentum=0.1, affine=True, track_running_stats=True)\n",
              "        (relu): ReLU(inplace=True)\n",
              "        (conv2): Conv2d(256, 256, kernel_size=(3, 3), stride=(1, 1), padding=(1, 1), bias=False)\n",
              "        (bn2): BatchNorm2d(256, eps=1e-05, momentum=0.1, affine=True, track_running_stats=True)\n",
              "      )\n",
              "    )\n",
              "  )\n",
              "  (cnn_p2): Sequential(\n",
              "    (0): Conv2d(256, 256, kernel_size=(3, 6), stride=(1, 1), padding=(1, 1))\n",
              "    (1): BatchNorm2d(256, eps=1e-05, momentum=0.1, affine=True, track_running_stats=True)\n",
              "    (2): ReLU(inplace=True)\n",
              "  )\n",
              "  (linear1): Linear(in_features=1024, out_features=256, bias=True)\n",
              "  (rnn1): GRU(256, 256, batch_first=True, bidirectional=True)\n",
              "  (rnn2): GRU(256, 256, batch_first=True, bidirectional=True)\n",
              "  (linear2): Linear(in_features=512, out_features=62, bias=True)\n",
              ")"
            ]
          },
          "metadata": {},
          "execution_count": 16
        }
      ]
    },
    {
      "cell_type": "markdown",
      "source": [
        "## Define loss"
      ],
      "metadata": {
        "id": "FHnU_l_GsFrZ"
      }
    },
    {
      "cell_type": "code",
      "source": [
        "criterion = nn.CTCLoss(blank=0)"
      ],
      "metadata": {
        "id": "tFnIFM2WsB1V"
      },
      "execution_count": null,
      "outputs": []
    },
    {
      "cell_type": "code",
      "source": [
        "def encode_text_batch(text_batch):\n",
        "    \n",
        "    text_batch_targets_lens = [len(text) for text in text_batch]\n",
        "    text_batch_targets_lens = torch.IntTensor(text_batch_targets_lens)\n",
        "    \n",
        "    text_batch_concat = \"\".join(text_batch)\n",
        "    text_batch_targets = [symbols_idx[c] for c in text_batch_concat]\n",
        "    text_batch_targets = torch.IntTensor(text_batch_targets)\n",
        "    \n",
        "    return text_batch_targets, text_batch_targets_lens"
      ],
      "metadata": {
        "id": "7ydTd6s-t_Ek"
      },
      "execution_count": null,
      "outputs": []
    },
    {
      "cell_type": "code",
      "source": [
        "def compute_loss(text_batch, text_batch_logits):\n",
        "    \"\"\"\n",
        "    text_batch: list of strings of length equal to batch size\n",
        "    text_batch_logits: Tensor of size([T, batch_size, num_classes])\n",
        "    \"\"\"\n",
        "    text_batch_logps = torch.nn.functional.log_softmax(text_batch_logits, 2) # [T, batch_size, num_classes]  \n",
        "    text_batch_logps_lens = torch.full(size=(text_batch_logps.size(1),), \n",
        "                                       fill_value=text_batch_logps.size(0), \n",
        "                                       dtype=torch.int32).to(device) # [batch_size] \n",
        "    #print(text_batch_logps.shape)\n",
        "    #print(text_batch_logps_lens) \n",
        "    text_batch_targets, text_batch_targets_lens = encode_text_batch(text_batch)\n",
        "    #print(text_batch_targets)\n",
        "    #print(text_batch_targets_lens)\n",
        "    loss = criterion(text_batch_logps, text_batch_targets, text_batch_logps_lens, text_batch_targets_lens)\n",
        "\n",
        "    return loss"
      ],
      "metadata": {
        "id": "whmgBI5buBsx"
      },
      "execution_count": null,
      "outputs": []
    },
    {
      "cell_type": "markdown",
      "source": [
        "## Train model"
      ],
      "metadata": {
        "id": "2kJNSkPjxAx8"
      }
    },
    {
      "cell_type": "code",
      "source": [
        "num_epochs = 4 # number of iterations for data\n",
        "n_generating = 8 # number of generating new data\n",
        "\n",
        "lr = 0.001\n",
        "weight_decay = 1e-3\n",
        "clip_norm = 5\n",
        "\n",
        "! mkdir 'train'\n",
        "! mkdir 'train/train'"
      ],
      "metadata": {
        "id": "nGzKxoIKuFyI"
      },
      "execution_count": null,
      "outputs": []
    },
    {
      "cell_type": "code",
      "source": [
        "optimizer = optim.Adam(ctc.parameters(), lr=lr, weight_decay=weight_decay)\n",
        "lr_scheduler = optim.lr_scheduler.ReduceLROnPlateau(optimizer, verbose=True, patience=5)"
      ],
      "metadata": {
        "id": "4AgOFaLfxCZI"
      },
      "execution_count": null,
      "outputs": []
    },
    {
      "cell_type": "code",
      "source": [
        "ctc = CTC(num_symbols, rnn_hidden_size=rnn_hidden_size)\n",
        "ctc.apply(weights_init)\n",
        "ctc = ctc.to(device)"
      ],
      "metadata": {
        "id": "Ao8_Z4xyxD77"
      },
      "execution_count": null,
      "outputs": []
    },
    {
      "cell_type": "code",
      "source": [
        "# train with new data every couple of iteration\n",
        "\n",
        "epoch_losses = []\n",
        "iteration_losses = []\n",
        "num_updates_epochs = []\n",
        "\n",
        "# inicialize CAPTCHA with custom fonts:\n",
        "fonts = ['/content/drive/MyDrive/Colab Notebooks/01SU2/CAPTCHA/fonts/calibri.ttf',\n",
        "         '/content/drive/MyDrive/Colab Notebooks/01SU2/CAPTCHA/fonts/times.ttf',\n",
        "         '/content/drive/MyDrive/Colab Notebooks/01SU2/CAPTCHA/fonts/arial.ttf']\n",
        "image = ImageCaptcha(width = 180, height = 80, fonts = fonts) \n",
        "\n",
        "N = 100000                      # number of generated codes\n",
        "\n",
        "version_of_model = 1\n",
        "\n",
        "for generation in range(n_generating):\n",
        "\n",
        "    # delete old files and create new folder\n",
        "    !rm -rf train\n",
        "    ! mkdir 'train'\n",
        "    ! mkdir 'train/train'\n",
        "\n",
        "    # generate captcha codes\n",
        "    for i in tqdm(range(N)):\n",
        "        label = code_generator(captcha_len)\n",
        "        # save in separate png files:\n",
        "        image.write(label,'train/train/{}.png'.format(label))\n",
        "\n",
        "    train_labels = os.listdir('train/train')\n",
        "    dataset_train = Custom_Dataset('train/train', train_labels) \n",
        "    train_loader = torch.utils.data.DataLoader(dataset_train, batch_size=batch_size, num_workers=workers, shuffle=True)\n",
        "\n",
        "    help_const = 0\n",
        "\n",
        "    for epoch in tqdm(range(1, num_epochs+1)):\n",
        "        epoch_loss_list = [] \n",
        "        num_updates_epoch = 0\n",
        "        for image_batch, text_batch in train_loader:\n",
        "            optimizer.zero_grad()\n",
        "            text_batch_logits = ctc(image_batch.to(device))\n",
        "            loss = compute_loss(text_batch, text_batch_logits)\n",
        "            iteration_loss = loss.item()\n",
        "\n",
        "            if np.isnan(iteration_loss) or np.isinf(iteration_loss):\n",
        "                continue\n",
        "              \n",
        "            num_updates_epoch += 1\n",
        "            iteration_losses.append(iteration_loss)\n",
        "            epoch_loss_list.append(iteration_loss)\n",
        "            loss.backward()\n",
        "            nn.utils.clip_grad_norm_(ctc.parameters(), clip_norm)\n",
        "            optimizer.step()\n",
        "\n",
        "            help_const = help_const + 1\n",
        "            if (help_const % 100 == 0):\n",
        "                print(\"Batch:{}    Loss:{}\".format(help_const, np.mean(epoch_loss_list)))\n",
        "\n",
        "        epoch_loss = np.mean(epoch_loss_list)\n",
        "        print(\"Epoch:{}    Loss:{}    NumUpdates:{}\".format(epoch, epoch_loss, num_updates_epoch))\n",
        "        epoch_losses.append(epoch_loss)\n",
        "        num_updates_epochs.append(num_updates_epoch)\n",
        "        lr_scheduler.step(epoch_loss)\n",
        "\n",
        "        torch.save(ctc.state_dict(), \"/content/drive/MyDrive/Colab Notebooks/01SU2/CAPTCHA/model_final_6_{}.pt\".format(version_of_model))\n",
        "        version_of_model = version_of_model + 1\n",
        "\n",
        "        help_const = 0\n"
      ],
      "metadata": {
        "colab": {
          "base_uri": "https://localhost:8080/"
        },
        "id": "WbGqqJtYLPzh",
        "outputId": "d2b4e83b-6a96-4389-cd79-1f746ddc3569"
      },
      "execution_count": null,
      "outputs": [
        {
          "output_type": "stream",
          "name": "stderr",
          "text": [
            "100%|██████████| 100000/100000 [12:43<00:00, 130.89it/s]\n",
            "  0%|          | 0/4 [00:00<?, ?it/s]"
          ]
        },
        {
          "output_type": "stream",
          "name": "stdout",
          "text": [
            "Batch:100    Loss:3.914863018989563\n",
            "Batch:200    Loss:3.361518838405609\n",
            "Batch:300    Loss:3.0123445971806846\n"
          ]
        },
        {
          "output_type": "stream",
          "name": "stderr",
          "text": [
            "\r 25%|██▌       | 1/4 [04:45<14:16, 285.34s/it]"
          ]
        },
        {
          "output_type": "stream",
          "name": "stdout",
          "text": [
            "Epoch:1    Loss:2.813288248408481    NumUpdates:391\n",
            "Batch:100    Loss:2.078455345630646\n",
            "Batch:200    Loss:2.0526347088813783\n",
            "Batch:300    Loss:2.0308249803384144\n"
          ]
        },
        {
          "output_type": "stream",
          "name": "stderr",
          "text": [
            "\r 50%|█████     | 2/4 [09:29<09:29, 284.78s/it]"
          ]
        },
        {
          "output_type": "stream",
          "name": "stdout",
          "text": [
            "Epoch:2    Loss:2.014374901571542    NumUpdates:391\n",
            "Batch:100    Loss:1.9302525007724762\n",
            "Batch:200    Loss:1.9176765352487564\n",
            "Batch:300    Loss:1.9091581841309866\n"
          ]
        },
        {
          "output_type": "stream",
          "name": "stderr",
          "text": [
            "\r 75%|███████▌  | 3/4 [14:13<04:44, 284.46s/it]"
          ]
        },
        {
          "output_type": "stream",
          "name": "stdout",
          "text": [
            "Epoch:3    Loss:1.9034401346045686    NumUpdates:391\n",
            "Batch:100    Loss:1.8765612637996674\n",
            "Batch:200    Loss:1.8645080214738845\n",
            "Batch:300    Loss:1.8570577577749887\n"
          ]
        },
        {
          "output_type": "stream",
          "name": "stderr",
          "text": [
            "100%|██████████| 4/4 [18:57<00:00, 284.38s/it]"
          ]
        },
        {
          "output_type": "stream",
          "name": "stdout",
          "text": [
            "Epoch:4    Loss:1.8531854085605164    NumUpdates:391\n"
          ]
        },
        {
          "output_type": "stream",
          "name": "stderr",
          "text": [
            "\n",
            "100%|██████████| 100000/100000 [12:35<00:00, 132.36it/s]\n",
            "  0%|          | 0/4 [00:00<?, ?it/s]"
          ]
        },
        {
          "output_type": "stream",
          "name": "stdout",
          "text": [
            "Batch:100    Loss:1.836957792043686\n",
            "Batch:200    Loss:1.830547788143158\n",
            "Batch:300    Loss:1.8269632271925609\n"
          ]
        },
        {
          "output_type": "stream",
          "name": "stderr",
          "text": [
            "\r 25%|██▌       | 1/4 [04:44<14:12, 284.30s/it]"
          ]
        },
        {
          "output_type": "stream",
          "name": "stdout",
          "text": [
            "Epoch:1    Loss:1.8231969843130282    NumUpdates:391\n",
            "Batch:100    Loss:1.7947300732135774\n",
            "Batch:200    Loss:1.7901365262269975\n",
            "Batch:300    Loss:1.796667573451996\n"
          ]
        },
        {
          "output_type": "stream",
          "name": "stderr",
          "text": [
            "\r 50%|█████     | 2/4 [09:28<09:28, 284.01s/it]"
          ]
        },
        {
          "output_type": "stream",
          "name": "stdout",
          "text": [
            "Epoch:2    Loss:1.7949713852704334    NumUpdates:391\n",
            "Batch:100    Loss:1.7762696146965027\n",
            "Batch:200    Loss:1.7741122496128083\n",
            "Batch:300    Loss:1.7811013988653819\n"
          ]
        },
        {
          "output_type": "stream",
          "name": "stderr",
          "text": [
            "\r 75%|███████▌  | 3/4 [14:11<04:43, 283.94s/it]"
          ]
        },
        {
          "output_type": "stream",
          "name": "stdout",
          "text": [
            "Epoch:3    Loss:1.780661666789628    NumUpdates:391\n",
            "Batch:100    Loss:1.7649248707294465\n",
            "Batch:200    Loss:1.7707149159908295\n",
            "Batch:300    Loss:1.7668404416243235\n"
          ]
        },
        {
          "output_type": "stream",
          "name": "stderr",
          "text": [
            "100%|██████████| 4/4 [18:55<00:00, 283.94s/it]"
          ]
        },
        {
          "output_type": "stream",
          "name": "stdout",
          "text": [
            "Epoch:4    Loss:1.7641487886838596    NumUpdates:391\n"
          ]
        },
        {
          "output_type": "stream",
          "name": "stderr",
          "text": [
            "\n",
            "100%|██████████| 100000/100000 [12:48<00:00, 130.16it/s]\n",
            "  0%|          | 0/4 [00:00<?, ?it/s]"
          ]
        },
        {
          "output_type": "stream",
          "name": "stdout",
          "text": [
            "Batch:100    Loss:1.7831059503555298\n",
            "Batch:200    Loss:1.7850049144029618\n",
            "Batch:300    Loss:1.7791437832514445\n"
          ]
        },
        {
          "output_type": "stream",
          "name": "stderr",
          "text": [
            "\r 25%|██▌       | 1/4 [04:44<14:12, 284.07s/it]"
          ]
        },
        {
          "output_type": "stream",
          "name": "stdout",
          "text": [
            "Epoch:1    Loss:1.7795548783543775    NumUpdates:391\n",
            "Batch:100    Loss:1.7602642095088958\n",
            "Batch:200    Loss:1.7554199123382568\n",
            "Batch:300    Loss:1.7577686762809754\n"
          ]
        },
        {
          "output_type": "stream",
          "name": "stderr",
          "text": [
            "\r 50%|█████     | 2/4 [09:27<09:27, 283.92s/it]"
          ]
        },
        {
          "output_type": "stream",
          "name": "stdout",
          "text": [
            "Epoch:2    Loss:1.7600617835588772    NumUpdates:391\n",
            "Batch:100    Loss:1.7558880186080932\n",
            "Batch:200    Loss:1.7513654166460038\n",
            "Batch:300    Loss:1.7577133226394652\n"
          ]
        },
        {
          "output_type": "stream",
          "name": "stderr",
          "text": [
            "\r 75%|███████▌  | 3/4 [14:11<04:43, 283.85s/it]"
          ]
        },
        {
          "output_type": "stream",
          "name": "stdout",
          "text": [
            "Epoch:3    Loss:1.7561435513484203    NumUpdates:391\n",
            "Batch:100    Loss:1.7484942388534546\n",
            "Batch:200    Loss:1.7511364388465882\n",
            "Batch:300    Loss:1.7539807069301605\n"
          ]
        },
        {
          "output_type": "stream",
          "name": "stderr",
          "text": [
            "100%|██████████| 4/4 [18:55<00:00, 283.77s/it]"
          ]
        },
        {
          "output_type": "stream",
          "name": "stdout",
          "text": [
            "Epoch:4    Loss:1.7574572419876333    NumUpdates:391\n"
          ]
        },
        {
          "output_type": "stream",
          "name": "stderr",
          "text": [
            "\n",
            "100%|██████████| 100000/100000 [12:37<00:00, 132.00it/s]\n",
            "  0%|          | 0/4 [00:00<?, ?it/s]"
          ]
        },
        {
          "output_type": "stream",
          "name": "stdout",
          "text": [
            "Batch:100    Loss:1.754683222770691\n",
            "Batch:200    Loss:1.755817431807518\n",
            "Batch:300    Loss:1.7551639493306477\n"
          ]
        },
        {
          "output_type": "stream",
          "name": "stderr",
          "text": [
            "\r 25%|██▌       | 1/4 [04:43<14:11, 283.79s/it]"
          ]
        },
        {
          "output_type": "stream",
          "name": "stdout",
          "text": [
            "Epoch:1    Loss:1.7537296403704397    NumUpdates:391\n",
            "Batch:100    Loss:1.7455015289783478\n",
            "Batch:200    Loss:1.7473796421289445\n",
            "Batch:300    Loss:1.7435586814085642\n"
          ]
        },
        {
          "output_type": "stream",
          "name": "stderr",
          "text": [
            "\r 50%|█████     | 2/4 [09:26<09:26, 283.38s/it]"
          ]
        },
        {
          "output_type": "stream",
          "name": "stdout",
          "text": [
            "Epoch:2    Loss:1.7450575892577695    NumUpdates:391\n",
            "Batch:100    Loss:1.7536261510848998\n",
            "Batch:200    Loss:1.7485037904977798\n",
            "Batch:300    Loss:1.7473096267382304\n"
          ]
        },
        {
          "output_type": "stream",
          "name": "stderr",
          "text": [
            "\r 75%|███████▌  | 3/4 [14:10<04:43, 283.29s/it]"
          ]
        },
        {
          "output_type": "stream",
          "name": "stdout",
          "text": [
            "Epoch:3    Loss:1.7481426582921802    NumUpdates:391\n",
            "Batch:100    Loss:1.747786409854889\n",
            "Batch:200    Loss:1.7516801750659943\n",
            "Batch:300    Loss:1.7507714164257049\n"
          ]
        },
        {
          "output_type": "stream",
          "name": "stderr",
          "text": [
            "100%|██████████| 4/4 [18:53<00:00, 283.26s/it]"
          ]
        },
        {
          "output_type": "stream",
          "name": "stdout",
          "text": [
            "Epoch:4    Loss:1.7499641472726222    NumUpdates:391\n"
          ]
        },
        {
          "output_type": "stream",
          "name": "stderr",
          "text": [
            "\n",
            "100%|██████████| 100000/100000 [12:46<00:00, 130.47it/s]\n",
            "  0%|          | 0/4 [00:00<?, ?it/s]"
          ]
        },
        {
          "output_type": "stream",
          "name": "stdout",
          "text": [
            "Batch:100    Loss:1.7759754717350007\n",
            "Batch:200    Loss:1.75944572865963\n",
            "Batch:300    Loss:1.757177605231603\n",
            "Epoch:1    Loss:1.7538049754584233    NumUpdates:391\n"
          ]
        },
        {
          "output_type": "stream",
          "name": "stderr",
          "text": [
            "\r 25%|██▌       | 1/4 [04:43<14:09, 283.09s/it]"
          ]
        },
        {
          "output_type": "stream",
          "name": "stdout",
          "text": [
            "Batch:100    Loss:1.7363244414329528\n",
            "Batch:200    Loss:1.7368739742040633\n",
            "Batch:300    Loss:1.7393519504865012\n"
          ]
        },
        {
          "output_type": "stream",
          "name": "stderr",
          "text": [
            "\r 50%|█████     | 2/4 [09:25<09:25, 282.56s/it]"
          ]
        },
        {
          "output_type": "stream",
          "name": "stdout",
          "text": [
            "Epoch:2    Loss:1.7412074340883728    NumUpdates:391\n",
            "Batch:100    Loss:1.7362958252429963\n",
            "Batch:200    Loss:1.735122110247612\n",
            "Batch:300    Loss:1.740102673371633\n"
          ]
        },
        {
          "output_type": "stream",
          "name": "stderr",
          "text": [
            "\r 75%|███████▌  | 3/4 [14:07<04:42, 282.30s/it]"
          ]
        },
        {
          "output_type": "stream",
          "name": "stdout",
          "text": [
            "Epoch:3    Loss:1.7428037089764918    NumUpdates:391\n",
            "Batch:100    Loss:1.7333556175231934\n",
            "Batch:200    Loss:1.7306518578529357\n",
            "Batch:300    Loss:1.731540752251943\n"
          ]
        },
        {
          "output_type": "stream",
          "name": "stderr",
          "text": [
            "100%|██████████| 4/4 [18:49<00:00, 282.31s/it]"
          ]
        },
        {
          "output_type": "stream",
          "name": "stdout",
          "text": [
            "Epoch:4    Loss:1.731970604423367    NumUpdates:391\n"
          ]
        },
        {
          "output_type": "stream",
          "name": "stderr",
          "text": [
            "\n",
            "100%|██████████| 100000/100000 [12:50<00:00, 129.79it/s]\n",
            "  0%|          | 0/4 [00:00<?, ?it/s]"
          ]
        },
        {
          "output_type": "stream",
          "name": "stdout",
          "text": [
            "Batch:100    Loss:1.7544707763195038\n",
            "Batch:200    Loss:1.7539722573757173\n",
            "Batch:300    Loss:1.7490795413653055\n",
            "Epoch:1    Loss:1.7455798881438078    NumUpdates:391\n"
          ]
        },
        {
          "output_type": "stream",
          "name": "stderr",
          "text": [
            "\r 25%|██▌       | 1/4 [04:44<14:12, 284.17s/it]"
          ]
        },
        {
          "output_type": "stream",
          "name": "stdout",
          "text": [
            "Batch:100    Loss:1.7498919069766998\n",
            "Batch:200    Loss:1.7414581829309463\n",
            "Batch:300    Loss:1.7404004589716593\n"
          ]
        },
        {
          "output_type": "stream",
          "name": "stderr",
          "text": [
            "\r 50%|█████     | 2/4 [09:27<09:27, 283.77s/it]"
          ]
        },
        {
          "output_type": "stream",
          "name": "stdout",
          "text": [
            "Epoch:2    Loss:1.740082997495256    NumUpdates:391\n",
            "Batch:100    Loss:1.7324585711956024\n",
            "Batch:200    Loss:1.7328130078315735\n",
            "Batch:300    Loss:1.734818516174952\n"
          ]
        },
        {
          "output_type": "stream",
          "name": "stderr",
          "text": [
            "\r 75%|███████▌  | 3/4 [14:10<04:43, 283.47s/it]"
          ]
        },
        {
          "output_type": "stream",
          "name": "stdout",
          "text": [
            "Epoch:3    Loss:1.735720108537113    NumUpdates:391\n",
            "Batch:100    Loss:1.7298878037929535\n",
            "Batch:200    Loss:1.7358347177505493\n",
            "Batch:300    Loss:1.7345719500382741\n"
          ]
        },
        {
          "output_type": "stream",
          "name": "stderr",
          "text": [
            "100%|██████████| 4/4 [18:53<00:00, 283.45s/it]"
          ]
        },
        {
          "output_type": "stream",
          "name": "stdout",
          "text": [
            "Epoch:4    Loss:1.7323779861640443    NumUpdates:391\n"
          ]
        },
        {
          "output_type": "stream",
          "name": "stderr",
          "text": [
            "\n",
            "100%|██████████| 100000/100000 [12:37<00:00, 132.04it/s]\n",
            "  0%|          | 0/4 [00:00<?, ?it/s]"
          ]
        },
        {
          "output_type": "stream",
          "name": "stdout",
          "text": [
            "Batch:100    Loss:1.7630124807357788\n",
            "Batch:200    Loss:1.7560734921693801\n",
            "Batch:300    Loss:1.7516734902064006\n"
          ]
        },
        {
          "output_type": "stream",
          "name": "stderr",
          "text": [
            "\r 25%|██▌       | 1/4 [04:42<14:08, 282.82s/it]"
          ]
        },
        {
          "output_type": "stream",
          "name": "stdout",
          "text": [
            "Epoch:1    Loss:1.7494264694735826    NumUpdates:391\n",
            "Batch:100    Loss:1.7430478191375733\n",
            "Batch:200    Loss:1.7375239485502243\n",
            "Batch:300    Loss:1.734695781469345\n"
          ]
        },
        {
          "output_type": "stream",
          "name": "stderr",
          "text": [
            "\r 50%|█████     | 2/4 [09:25<09:25, 282.68s/it]"
          ]
        },
        {
          "output_type": "stream",
          "name": "stdout",
          "text": [
            "Epoch:2    Loss:1.7342202325001397    NumUpdates:391\n",
            "Epoch    26: reducing learning rate of group 0 to 1.0000e-04.\n",
            "Batch:100    Loss:1.666839154958725\n",
            "Batch:200    Loss:1.6517896676063537\n",
            "Batch:300    Loss:1.6448669254779815\n"
          ]
        },
        {
          "output_type": "stream",
          "name": "stderr",
          "text": [
            "\r 75%|███████▌  | 3/4 [14:07<04:42, 282.59s/it]"
          ]
        },
        {
          "output_type": "stream",
          "name": "stdout",
          "text": [
            "Epoch:3    Loss:1.6409521169979553    NumUpdates:391\n",
            "Batch:100    Loss:1.6200997924804688\n",
            "Batch:200    Loss:1.6184112614393233\n",
            "Batch:300    Loss:1.6173253333568574\n"
          ]
        },
        {
          "output_type": "stream",
          "name": "stderr",
          "text": [
            "100%|██████████| 4/4 [18:50<00:00, 282.67s/it]"
          ]
        },
        {
          "output_type": "stream",
          "name": "stdout",
          "text": [
            "Epoch:4    Loss:1.6173299398568586    NumUpdates:391\n"
          ]
        },
        {
          "output_type": "stream",
          "name": "stderr",
          "text": [
            "\n",
            "  8%|▊         | 8087/100000 [01:00<11:08, 137.47it/s]"
          ]
        }
      ]
    },
    {
      "cell_type": "code",
      "source": [
        "fig, (ax1, ax2) = plt.subplots(1, 2, figsize=(10, 5))\n",
        "\n",
        "ax1.plot(epoch_losses)\n",
        "ax1.set_xlabel(\"Epochs\")\n",
        "ax1.set_ylabel(\"Loss\")\n",
        "\n",
        "ax2.plot(iteration_losses)\n",
        "ax2.set_xlabel(\"Iterations\")\n",
        "ax2.set_ylabel(\"Loss\")\n",
        "\n",
        "plt.show()"
      ],
      "metadata": {
        "id": "r4hgcOSUxRTa"
      },
      "execution_count": null,
      "outputs": []
    },
    {
      "cell_type": "markdown",
      "source": [
        "## Save model"
      ],
      "metadata": {
        "id": "LMYsoW8EqWl1"
      }
    },
    {
      "cell_type": "code",
      "source": [
        "PATH = \"/content/drive/MyDrive/Colab Notebooks/01SU2/CAPTCHA/model_final_6.pt\"\n",
        "torch.save(ctc.state_dict(), PATH)"
      ],
      "metadata": {
        "id": "Qt5Hrl1TqVOp"
      },
      "execution_count": null,
      "outputs": []
    },
    {
      "cell_type": "markdown",
      "source": [
        "## Load model"
      ],
      "metadata": {
        "id": "2QrinZa7qo3p"
      }
    },
    {
      "cell_type": "code",
      "source": [
        "PATH = \"/content/drive/MyDrive/Colab Notebooks/01SU2/CAPTCHA/model_final_6_28.pt\"\n",
        "\n",
        "ctc = CTC(num_symbols, rnn_hidden_size=rnn_hidden_size)\n",
        "ctc.apply(weights_init)\n",
        "ctc = ctc.to(device)\n",
        "\n",
        "ctc.load_state_dict(torch.load(PATH))"
      ],
      "metadata": {
        "id": "sh6D-ajy0v8-",
        "colab": {
          "base_uri": "https://localhost:8080/"
        },
        "outputId": "af069dd4-6c68-4654-ac12-4df4737a20e0"
      },
      "execution_count": null,
      "outputs": [
        {
          "output_type": "execute_result",
          "data": {
            "text/plain": [
              "<All keys matched successfully>"
            ]
          },
          "metadata": {},
          "execution_count": 29
        }
      ]
    },
    {
      "cell_type": "markdown",
      "source": [
        "## Make predictions"
      ],
      "metadata": {
        "id": "FE9IagXJxnFx"
      }
    },
    {
      "cell_type": "code",
      "source": [
        "def decode_predictions(text_batch_logits):\n",
        "\n",
        "    text_batch_tokens = torch.nn.functional.softmax(text_batch_logits, 2).argmax(2) # [T, batch_size]\n",
        "    text_batch_tokens = text_batch_tokens.numpy().T # [batch_size, T]\n",
        "\n",
        "    text_batch_tokens_new = []\n",
        "    for text_tokens in text_batch_tokens:\n",
        "        text = [symbols_char[idx] for idx in text_tokens]\n",
        "        text = \"\".join(text)\n",
        "        text_batch_tokens_new.append(text)\n",
        "\n",
        "    return text_batch_tokens_new"
      ],
      "metadata": {
        "id": "Dujg5yyBxm0F"
      },
      "execution_count": null,
      "outputs": []
    },
    {
      "cell_type": "code",
      "source": [
        "test_labels = os.listdir('test/test')\n",
        "dataset_test = Custom_Dataset('test/test', test_labels) \n",
        "test_loader = torch.utils.data.DataLoader(dataset_test, batch_size=batch_size, num_workers=workers, shuffle=True)\n",
        "\n",
        "results_test = pd.DataFrame(columns=['actual', 'prediction'])\n",
        "# test_loader = DataLoader(testset, batch_size=16, num_workers=1, shuffle=False)\n",
        "with torch.no_grad():\n",
        "    for image_batch, text_batch in tqdm(test_loader, leave=True):\n",
        "        text_batch_logits = ctc(image_batch.to(device)) # [T, batch_size, num_classes==num_features]\n",
        "        text_batch_pred = decode_predictions(text_batch_logits.cpu())\n",
        "        #print(text_batch, text_batch_pred)\n",
        "        df = pd.DataFrame(columns=['actual', 'prediction'])\n",
        "        df['actual'] = text_batch\n",
        "        df['prediction'] = text_batch_pred\n",
        "        results_test = pd.concat([results_test, df])\n",
        "results_test = results_test.reset_index(drop=True)"
      ],
      "metadata": {
        "id": "HXl1WouxzdJ-",
        "colab": {
          "base_uri": "https://localhost:8080/"
        },
        "outputId": "ca99a067-85a8-4089-9bcb-f2f02b01551b"
      },
      "execution_count": null,
      "outputs": [
        {
          "output_type": "stream",
          "name": "stderr",
          "text": [
            "100%|██████████| 196/196 [01:08<00:00,  2.86it/s]\n"
          ]
        }
      ]
    },
    {
      "cell_type": "code",
      "source": [
        "def remove_duplicates(text):\n",
        "    if len(text) > 1:\n",
        "        letters = [text[0]] + [letter for idx, letter in enumerate(text[1:], start=1) if text[idx] != text[idx-1]]\n",
        "    elif len(text) == 1:\n",
        "        letters = [text[0]]\n",
        "    else:\n",
        "        return \"\"\n",
        "    return \"\".join(letters)\n",
        "\n",
        "def correct_prediction(word):\n",
        "    parts = word.split(\"-\")\n",
        "    parts = [remove_duplicates(part) for part in parts]\n",
        "    corrected_word = \"\".join(parts)\n",
        "    return corrected_word"
      ],
      "metadata": {
        "id": "mHi6kBsD2aCC"
      },
      "execution_count": null,
      "outputs": []
    },
    {
      "cell_type": "code",
      "source": [
        "results_test['prediction_corrected'] = results_test['prediction'].apply(correct_prediction)\n",
        "results_test.head()"
      ],
      "metadata": {
        "id": "zRssEyPF2fmA",
        "colab": {
          "base_uri": "https://localhost:8080/",
          "height": 206
        },
        "outputId": "ce8f42d9-9815-484d-c3e2-9a7fcbf32e1e"
      },
      "execution_count": null,
      "outputs": [
        {
          "output_type": "execute_result",
          "data": {
            "text/html": [
              "\n",
              "  <div id=\"df-ce7aa91e-e6ee-482c-aa36-e3eda9746fbc\">\n",
              "    <div class=\"colab-df-container\">\n",
              "      <div>\n",
              "<style scoped>\n",
              "    .dataframe tbody tr th:only-of-type {\n",
              "        vertical-align: middle;\n",
              "    }\n",
              "\n",
              "    .dataframe tbody tr th {\n",
              "        vertical-align: top;\n",
              "    }\n",
              "\n",
              "    .dataframe thead th {\n",
              "        text-align: right;\n",
              "    }\n",
              "</style>\n",
              "<table border=\"1\" class=\"dataframe\">\n",
              "  <thead>\n",
              "    <tr style=\"text-align: right;\">\n",
              "      <th></th>\n",
              "      <th>actual</th>\n",
              "      <th>prediction</th>\n",
              "      <th>prediction_corrected</th>\n",
              "    </tr>\n",
              "  </thead>\n",
              "  <tbody>\n",
              "    <tr>\n",
              "      <th>0</th>\n",
              "      <td>fmwxm9</td>\n",
              "      <td>fmmwxxm99</td>\n",
              "      <td>fmwxm9</td>\n",
              "    </tr>\n",
              "    <tr>\n",
              "      <th>1</th>\n",
              "      <td>q97ld2</td>\n",
              "      <td>q9977ldd2</td>\n",
              "      <td>q97ld2</td>\n",
              "    </tr>\n",
              "    <tr>\n",
              "      <th>2</th>\n",
              "      <td>9t3npk</td>\n",
              "      <td>99t3nppkk</td>\n",
              "      <td>9t3npk</td>\n",
              "    </tr>\n",
              "    <tr>\n",
              "      <th>3</th>\n",
              "      <td>ig0dm6</td>\n",
              "      <td>igg0ddmm6</td>\n",
              "      <td>ig0dm6</td>\n",
              "    </tr>\n",
              "    <tr>\n",
              "      <th>4</th>\n",
              "      <td>kzapsw</td>\n",
              "      <td>kzaapssww</td>\n",
              "      <td>kzapsw</td>\n",
              "    </tr>\n",
              "  </tbody>\n",
              "</table>\n",
              "</div>\n",
              "      <button class=\"colab-df-convert\" onclick=\"convertToInteractive('df-ce7aa91e-e6ee-482c-aa36-e3eda9746fbc')\"\n",
              "              title=\"Convert this dataframe to an interactive table.\"\n",
              "              style=\"display:none;\">\n",
              "        \n",
              "  <svg xmlns=\"http://www.w3.org/2000/svg\" height=\"24px\"viewBox=\"0 0 24 24\"\n",
              "       width=\"24px\">\n",
              "    <path d=\"M0 0h24v24H0V0z\" fill=\"none\"/>\n",
              "    <path d=\"M18.56 5.44l.94 2.06.94-2.06 2.06-.94-2.06-.94-.94-2.06-.94 2.06-2.06.94zm-11 1L8.5 8.5l.94-2.06 2.06-.94-2.06-.94L8.5 2.5l-.94 2.06-2.06.94zm10 10l.94 2.06.94-2.06 2.06-.94-2.06-.94-.94-2.06-.94 2.06-2.06.94z\"/><path d=\"M17.41 7.96l-1.37-1.37c-.4-.4-.92-.59-1.43-.59-.52 0-1.04.2-1.43.59L10.3 9.45l-7.72 7.72c-.78.78-.78 2.05 0 2.83L4 21.41c.39.39.9.59 1.41.59.51 0 1.02-.2 1.41-.59l7.78-7.78 2.81-2.81c.8-.78.8-2.07 0-2.86zM5.41 20L4 18.59l7.72-7.72 1.47 1.35L5.41 20z\"/>\n",
              "  </svg>\n",
              "      </button>\n",
              "      \n",
              "  <style>\n",
              "    .colab-df-container {\n",
              "      display:flex;\n",
              "      flex-wrap:wrap;\n",
              "      gap: 12px;\n",
              "    }\n",
              "\n",
              "    .colab-df-convert {\n",
              "      background-color: #E8F0FE;\n",
              "      border: none;\n",
              "      border-radius: 50%;\n",
              "      cursor: pointer;\n",
              "      display: none;\n",
              "      fill: #1967D2;\n",
              "      height: 32px;\n",
              "      padding: 0 0 0 0;\n",
              "      width: 32px;\n",
              "    }\n",
              "\n",
              "    .colab-df-convert:hover {\n",
              "      background-color: #E2EBFA;\n",
              "      box-shadow: 0px 1px 2px rgba(60, 64, 67, 0.3), 0px 1px 3px 1px rgba(60, 64, 67, 0.15);\n",
              "      fill: #174EA6;\n",
              "    }\n",
              "\n",
              "    [theme=dark] .colab-df-convert {\n",
              "      background-color: #3B4455;\n",
              "      fill: #D2E3FC;\n",
              "    }\n",
              "\n",
              "    [theme=dark] .colab-df-convert:hover {\n",
              "      background-color: #434B5C;\n",
              "      box-shadow: 0px 1px 3px 1px rgba(0, 0, 0, 0.15);\n",
              "      filter: drop-shadow(0px 1px 2px rgba(0, 0, 0, 0.3));\n",
              "      fill: #FFFFFF;\n",
              "    }\n",
              "  </style>\n",
              "\n",
              "      <script>\n",
              "        const buttonEl =\n",
              "          document.querySelector('#df-ce7aa91e-e6ee-482c-aa36-e3eda9746fbc button.colab-df-convert');\n",
              "        buttonEl.style.display =\n",
              "          google.colab.kernel.accessAllowed ? 'block' : 'none';\n",
              "\n",
              "        async function convertToInteractive(key) {\n",
              "          const element = document.querySelector('#df-ce7aa91e-e6ee-482c-aa36-e3eda9746fbc');\n",
              "          const dataTable =\n",
              "            await google.colab.kernel.invokeFunction('convertToInteractive',\n",
              "                                                     [key], {});\n",
              "          if (!dataTable) return;\n",
              "\n",
              "          const docLinkHtml = 'Like what you see? Visit the ' +\n",
              "            '<a target=\"_blank\" href=https://colab.research.google.com/notebooks/data_table.ipynb>data table notebook</a>'\n",
              "            + ' to learn more about interactive tables.';\n",
              "          element.innerHTML = '';\n",
              "          dataTable['output_type'] = 'display_data';\n",
              "          await google.colab.output.renderOutput(dataTable, element);\n",
              "          const docLink = document.createElement('div');\n",
              "          docLink.innerHTML = docLinkHtml;\n",
              "          element.appendChild(docLink);\n",
              "        }\n",
              "      </script>\n",
              "    </div>\n",
              "  </div>\n",
              "  "
            ],
            "text/plain": [
              "   actual prediction prediction_corrected\n",
              "0  fmwxm9  fmmwxxm99               fmwxm9\n",
              "1  q97ld2  q9977ldd2               q97ld2\n",
              "2  9t3npk  99t3nppkk               9t3npk\n",
              "3  ig0dm6  igg0ddmm6               ig0dm6\n",
              "4  kzapsw  kzaapssww               kzapsw"
            ]
          },
          "metadata": {},
          "execution_count": 33
        }
      ]
    },
    {
      "cell_type": "markdown",
      "source": [
        "# Evaluate model"
      ],
      "metadata": {
        "id": "bzx1KBSg1zrJ"
      }
    },
    {
      "cell_type": "code",
      "source": [
        "test_accuracy = accuracy_score(results_test['actual'], results_test['prediction_corrected'])\n",
        "print('Test accuracy: ', test_accuracy)"
      ],
      "metadata": {
        "id": "La75vWMD19UO",
        "colab": {
          "base_uri": "https://localhost:8080/"
        },
        "outputId": "eca1709b-1c51-45a6-897c-cbd5a4afda92"
      },
      "execution_count": null,
      "outputs": [
        {
          "output_type": "stream",
          "name": "stdout",
          "text": [
            "Test accuracy:  0.88112\n"
          ]
        }
      ]
    },
    {
      "cell_type": "code",
      "source": [
        "# view some test images and predictions\n",
        "\n",
        "fig = plt.figure(figsize=(14,14))\n",
        "plt.axis(\"off\")\n",
        "plt.title(\"Testing Images\")\n",
        "\n",
        "for i in range(16):\n",
        "    result = results_test.iloc[i]\n",
        "    ax = fig.add_subplot(4, 4, i + 1, xticks=[], yticks=[])\n",
        "    img = mpimg.imread('test/test/{}.png'.format(result[0]))\n",
        "    ax.imshow(img, interpolation='nearest')\n",
        "    plt.title('actual: ' + result[0] + '\\n' + 'predicted: ' + result[2], color='k', fontsize=15)"
      ],
      "metadata": {
        "id": "CeA4oUBn2udz",
        "colab": {
          "base_uri": "https://localhost:8080/",
          "height": 808
        },
        "outputId": "a1c19209-f5c4-4021-9bd5-aee0588786cd"
      },
      "execution_count": null,
      "outputs": [
        {
          "output_type": "display_data",
          "data": {
            "image/png": "[encoded data removed]",
            "text/plain": [
              "<Figure size 1008x1008 with 17 Axes>"
            ]
          },
          "metadata": {
            "needs_background": "light"
          }
        }
      ]
    },
    {
      "cell_type": "markdown",
      "source": [
        "## Distance for compare strings similarity"
      ],
      "metadata": {
        "id": "p7SpBQpnkK6W"
      }
    },
    {
      "cell_type": "code",
      "source": [
        "! pip install textdistance\n",
        "\n",
        "from textdistance import ratcliff_obershelp"
      ],
      "metadata": {
        "id": "2-42immfxq-4",
        "colab": {
          "base_uri": "https://localhost:8080/"
        },
        "outputId": "af8043c1-c7c6-4c05-a133-8b20a4746025"
      },
      "execution_count": null,
      "outputs": [
        {
          "output_type": "stream",
          "name": "stdout",
          "text": [
            "Collecting textdistance\n",
            "  Downloading textdistance-4.2.2-py3-none-any.whl (28 kB)\n",
            "Installing collected packages: textdistance\n",
            "Successfully installed textdistance-4.2.2\n"
          ]
        }
      ]
    },
    {
      "cell_type": "code",
      "source": [
        "for i in tqdm(range(len(results_test))):\n",
        "    results_test['ratcliff_obershelp'] = ratcliff_obershelp(results_test.iloc[i,0], results_test.iloc[i,2])"
      ],
      "metadata": {
        "id": "SjR-Gql_iz4b",
        "colab": {
          "base_uri": "https://localhost:8080/"
        },
        "outputId": "e465df0d-5b68-49ca-80d1-02845ad50570"
      },
      "execution_count": null,
      "outputs": [
        {
          "output_type": "stream",
          "name": "stderr",
          "text": [
            "100%|██████████| 50000/50000 [00:30<00:00, 1647.69it/s]\n"
          ]
        }
      ]
    },
    {
      "cell_type": "code",
      "source": [
        "print('Test Ratcliff-Obershelp: ', results_test['ratcliff_obershelp'].mean())"
      ],
      "metadata": {
        "id": "IDgxx1vai0_Y",
        "colab": {
          "base_uri": "https://localhost:8080/"
        },
        "outputId": "9ae5b91f-e317-48c7-c1dd-d05caaa6304d"
      },
      "execution_count": null,
      "outputs": [
        {
          "output_type": "stream",
          "name": "stdout",
          "text": [
            "Test Ratcliff-Obershelp:  1.0\n"
          ]
        }
      ]
    },
    {
      "cell_type": "code",
      "source": [
        ""
      ],
      "metadata": {
        "id": "OdOYW4O7ocbG"
      },
      "execution_count": null,
      "outputs": []
    }
  ]
}