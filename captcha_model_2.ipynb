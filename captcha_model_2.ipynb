{
  "nbformat": 4,
  "nbformat_minor": 0,
  "metadata": {
    "colab": {
      "name": "captcha_model_2.ipynb",
      "provenance": [],
      "collapsed_sections": [],
      "include_colab_link": true
    },
    "kernelspec": {
      "name": "python3",
      "display_name": "Python 3"
    },
    "language_info": {
      "name": "python"
    },
    "accelerator": "GPU",
    "widgets": {
      "application/vnd.jupyter.widget-state+json": {
        "af0c8b92f0f1420d87366138db591715": {
          "model_module": "@jupyter-widgets/controls",
          "model_name": "HBoxModel",
          "model_module_version": "1.5.0",
          "state": {
            "_view_name": "HBoxView",
            "_dom_classes": [],
            "_model_name": "HBoxModel",
            "_view_module": "@jupyter-widgets/controls",
            "_model_module_version": "1.5.0",
            "_view_count": null,
            "_view_module_version": "1.5.0",
            "box_style": "",
            "layout": "IPY_MODEL_1dbf341c3ccb411ea5a6af40ddb2b2b3",
            "_model_module": "@jupyter-widgets/controls",
            "children": [
              "IPY_MODEL_cec10b482ff94b19871bc5965237b40d",
              "IPY_MODEL_9570affdd5e14cd3a26579ca31c326ac",
              "IPY_MODEL_31154b9f221e486eafe21c98e47225d9"
            ]
          }
        },
        "1dbf341c3ccb411ea5a6af40ddb2b2b3": {
          "model_module": "@jupyter-widgets/base",
          "model_name": "LayoutModel",
          "model_module_version": "1.2.0",
          "state": {
            "_view_name": "LayoutView",
            "grid_template_rows": null,
            "right": null,
            "justify_content": null,
            "_view_module": "@jupyter-widgets/base",
            "overflow": null,
            "_model_module_version": "1.2.0",
            "_view_count": null,
            "flex_flow": null,
            "width": null,
            "min_width": null,
            "border": null,
            "align_items": null,
            "bottom": null,
            "_model_module": "@jupyter-widgets/base",
            "top": null,
            "grid_column": null,
            "overflow_y": null,
            "overflow_x": null,
            "grid_auto_flow": null,
            "grid_area": null,
            "grid_template_columns": null,
            "flex": null,
            "_model_name": "LayoutModel",
            "justify_items": null,
            "grid_row": null,
            "max_height": null,
            "align_content": null,
            "visibility": null,
            "align_self": null,
            "height": null,
            "min_height": null,
            "padding": null,
            "grid_auto_rows": null,
            "grid_gap": null,
            "max_width": null,
            "order": null,
            "_view_module_version": "1.2.0",
            "grid_template_areas": null,
            "object_position": null,
            "object_fit": null,
            "grid_auto_columns": null,
            "margin": null,
            "display": null,
            "left": null
          }
        },
        "cec10b482ff94b19871bc5965237b40d": {
          "model_module": "@jupyter-widgets/controls",
          "model_name": "HTMLModel",
          "model_module_version": "1.5.0",
          "state": {
            "_view_name": "HTMLView",
            "style": "IPY_MODEL_4b2fd13c2b984d30ac0a493899b61e24",
            "_dom_classes": [],
            "description": "",
            "_model_name": "HTMLModel",
            "placeholder": "​",
            "_view_module": "@jupyter-widgets/controls",
            "_model_module_version": "1.5.0",
            "value": "100%",
            "_view_count": null,
            "_view_module_version": "1.5.0",
            "description_tooltip": null,
            "_model_module": "@jupyter-widgets/controls",
            "layout": "IPY_MODEL_bf74a53fa2e349bf977d14af9b03cf8a"
          }
        },
        "9570affdd5e14cd3a26579ca31c326ac": {
          "model_module": "@jupyter-widgets/controls",
          "model_name": "FloatProgressModel",
          "model_module_version": "1.5.0",
          "state": {
            "_view_name": "ProgressView",
            "style": "IPY_MODEL_a76c0b6b46f141909ba2edeeb4530215",
            "_dom_classes": [],
            "description": "",
            "_model_name": "FloatProgressModel",
            "bar_style": "success",
            "max": 46830571,
            "_view_module": "@jupyter-widgets/controls",
            "_model_module_version": "1.5.0",
            "value": 46830571,
            "_view_count": null,
            "_view_module_version": "1.5.0",
            "orientation": "horizontal",
            "min": 0,
            "description_tooltip": null,
            "_model_module": "@jupyter-widgets/controls",
            "layout": "IPY_MODEL_98d6a65df2e646b19d7f64c781f2e90b"
          }
        },
        "31154b9f221e486eafe21c98e47225d9": {
          "model_module": "@jupyter-widgets/controls",
          "model_name": "HTMLModel",
          "model_module_version": "1.5.0",
          "state": {
            "_view_name": "HTMLView",
            "style": "IPY_MODEL_640cb83aa36e453c953e19d06090ceca",
            "_dom_classes": [],
            "description": "",
            "_model_name": "HTMLModel",
            "placeholder": "​",
            "_view_module": "@jupyter-widgets/controls",
            "_model_module_version": "1.5.0",
            "value": " 44.7M/44.7M [00:00&lt;00:00, 96.7MB/s]",
            "_view_count": null,
            "_view_module_version": "1.5.0",
            "description_tooltip": null,
            "_model_module": "@jupyter-widgets/controls",
            "layout": "IPY_MODEL_34068a3c090741279f90264d8c0ecbf4"
          }
        },
        "4b2fd13c2b984d30ac0a493899b61e24": {
          "model_module": "@jupyter-widgets/controls",
          "model_name": "DescriptionStyleModel",
          "model_module_version": "1.5.0",
          "state": {
            "_view_name": "StyleView",
            "_model_name": "DescriptionStyleModel",
            "description_width": "",
            "_view_module": "@jupyter-widgets/base",
            "_model_module_version": "1.5.0",
            "_view_count": null,
            "_view_module_version": "1.2.0",
            "_model_module": "@jupyter-widgets/controls"
          }
        },
        "bf74a53fa2e349bf977d14af9b03cf8a": {
          "model_module": "@jupyter-widgets/base",
          "model_name": "LayoutModel",
          "model_module_version": "1.2.0",
          "state": {
            "_view_name": "LayoutView",
            "grid_template_rows": null,
            "right": null,
            "justify_content": null,
            "_view_module": "@jupyter-widgets/base",
            "overflow": null,
            "_model_module_version": "1.2.0",
            "_view_count": null,
            "flex_flow": null,
            "width": null,
            "min_width": null,
            "border": null,
            "align_items": null,
            "bottom": null,
            "_model_module": "@jupyter-widgets/base",
            "top": null,
            "grid_column": null,
            "overflow_y": null,
            "overflow_x": null,
            "grid_auto_flow": null,
            "grid_area": null,
            "grid_template_columns": null,
            "flex": null,
            "_model_name": "LayoutModel",
            "justify_items": null,
            "grid_row": null,
            "max_height": null,
            "align_content": null,
            "visibility": null,
            "align_self": null,
            "height": null,
            "min_height": null,
            "padding": null,
            "grid_auto_rows": null,
            "grid_gap": null,
            "max_width": null,
            "order": null,
            "_view_module_version": "1.2.0",
            "grid_template_areas": null,
            "object_position": null,
            "object_fit": null,
            "grid_auto_columns": null,
            "margin": null,
            "display": null,
            "left": null
          }
        },
        "a76c0b6b46f141909ba2edeeb4530215": {
          "model_module": "@jupyter-widgets/controls",
          "model_name": "ProgressStyleModel",
          "model_module_version": "1.5.0",
          "state": {
            "_view_name": "StyleView",
            "_model_name": "ProgressStyleModel",
            "description_width": "",
            "_view_module": "@jupyter-widgets/base",
            "_model_module_version": "1.5.0",
            "_view_count": null,
            "_view_module_version": "1.2.0",
            "bar_color": null,
            "_model_module": "@jupyter-widgets/controls"
          }
        },
        "98d6a65df2e646b19d7f64c781f2e90b": {
          "model_module": "@jupyter-widgets/base",
          "model_name": "LayoutModel",
          "model_module_version": "1.2.0",
          "state": {
            "_view_name": "LayoutView",
            "grid_template_rows": null,
            "right": null,
            "justify_content": null,
            "_view_module": "@jupyter-widgets/base",
            "overflow": null,
            "_model_module_version": "1.2.0",
            "_view_count": null,
            "flex_flow": null,
            "width": null,
            "min_width": null,
            "border": null,
            "align_items": null,
            "bottom": null,
            "_model_module": "@jupyter-widgets/base",
            "top": null,
            "grid_column": null,
            "overflow_y": null,
            "overflow_x": null,
            "grid_auto_flow": null,
            "grid_area": null,
            "grid_template_columns": null,
            "flex": null,
            "_model_name": "LayoutModel",
            "justify_items": null,
            "grid_row": null,
            "max_height": null,
            "align_content": null,
            "visibility": null,
            "align_self": null,
            "height": null,
            "min_height": null,
            "padding": null,
            "grid_auto_rows": null,
            "grid_gap": null,
            "max_width": null,
            "order": null,
            "_view_module_version": "1.2.0",
            "grid_template_areas": null,
            "object_position": null,
            "object_fit": null,
            "grid_auto_columns": null,
            "margin": null,
            "display": null,
            "left": null
          }
        },
        "640cb83aa36e453c953e19d06090ceca": {
          "model_module": "@jupyter-widgets/controls",
          "model_name": "DescriptionStyleModel",
          "model_module_version": "1.5.0",
          "state": {
            "_view_name": "StyleView",
            "_model_name": "DescriptionStyleModel",
            "description_width": "",
            "_view_module": "@jupyter-widgets/base",
            "_model_module_version": "1.5.0",
            "_view_count": null,
            "_view_module_version": "1.2.0",
            "_model_module": "@jupyter-widgets/controls"
          }
        },
        "34068a3c090741279f90264d8c0ecbf4": {
          "model_module": "@jupyter-widgets/base",
          "model_name": "LayoutModel",
          "model_module_version": "1.2.0",
          "state": {
            "_view_name": "LayoutView",
            "grid_template_rows": null,
            "right": null,
            "justify_content": null,
            "_view_module": "@jupyter-widgets/base",
            "overflow": null,
            "_model_module_version": "1.2.0",
            "_view_count": null,
            "flex_flow": null,
            "width": null,
            "min_width": null,
            "border": null,
            "align_items": null,
            "bottom": null,
            "_model_module": "@jupyter-widgets/base",
            "top": null,
            "grid_column": null,
            "overflow_y": null,
            "overflow_x": null,
            "grid_auto_flow": null,
            "grid_area": null,
            "grid_template_columns": null,
            "flex": null,
            "_model_name": "LayoutModel",
            "justify_items": null,
            "grid_row": null,
            "max_height": null,
            "align_content": null,
            "visibility": null,
            "align_self": null,
            "height": null,
            "min_height": null,
            "padding": null,
            "grid_auto_rows": null,
            "grid_gap": null,
            "max_width": null,
            "order": null,
            "_view_module_version": "1.2.0",
            "grid_template_areas": null,
            "object_position": null,
            "object_fit": null,
            "grid_auto_columns": null,
            "margin": null,
            "display": null,
            "left": null
          }
        }
      }
    }
  },
  "cells": [
    {
      "cell_type": "markdown",
      "metadata": {
        "id": "view-in-github",
        "colab_type": "text"
      },
      "source": [
        "<a href=\"https://colab.research.google.com/github/Strojove-uceni/final-projects-i_am_not_a_robot/blob/main/captcha_model_2.ipynb\" target=\"_parent\"><img src=\"https://colab.research.google.com/assets/colab-badge.svg\" alt=\"Open In Colab\"/></a>"
      ]
    },
    {
      "cell_type": "code",
      "execution_count": null,
      "metadata": {
        "colab": {
          "base_uri": "https://localhost:8080/"
        },
        "id": "m7HvZC34h_W0",
        "outputId": "9c08ae8a-ab1f-4fe9-aed6-243208e6f245"
      },
      "outputs": [
        {
          "output_type": "stream",
          "name": "stdout",
          "text": [
            "Collecting patool\n",
            "  Downloading patool-1.12-py2.py3-none-any.whl (77 kB)\n",
            "\u001b[?25l\r\u001b[K     |████▎                           | 10 kB 15.9 MB/s eta 0:00:01\r\u001b[K     |████████▌                       | 20 kB 8.7 MB/s eta 0:00:01\r\u001b[K     |████████████▊                   | 30 kB 7.6 MB/s eta 0:00:01\r\u001b[K     |█████████████████               | 40 kB 7.0 MB/s eta 0:00:01\r\u001b[K     |█████████████████████▏          | 51 kB 4.4 MB/s eta 0:00:01\r\u001b[K     |█████████████████████████▍      | 61 kB 4.5 MB/s eta 0:00:01\r\u001b[K     |█████████████████████████████▋  | 71 kB 4.7 MB/s eta 0:00:01\r\u001b[K     |████████████████████████████████| 77 kB 3.0 MB/s \n",
            "\u001b[?25hInstalling collected packages: patool\n",
            "Successfully installed patool-1.12\n",
            "Collecting pyunpack\n",
            "  Downloading pyunpack-0.2.2-py2.py3-none-any.whl (3.8 kB)\n",
            "Collecting easyprocess\n",
            "  Downloading EasyProcess-0.3-py2.py3-none-any.whl (7.9 kB)\n",
            "Collecting entrypoint2\n",
            "  Downloading entrypoint2-0.2.4-py3-none-any.whl (6.2 kB)\n",
            "Installing collected packages: entrypoint2, easyprocess, pyunpack\n",
            "Successfully installed easyprocess-0.3 entrypoint2-0.2.4 pyunpack-0.2.2\n",
            "Collecting captcha\n",
            "  Downloading captcha-0.3-py3-none-any.whl (101 kB)\n",
            "\u001b[K     |████████████████████████████████| 101 kB 3.5 MB/s \n",
            "\u001b[?25hRequirement already satisfied: Pillow in /usr/local/lib/python3.7/dist-packages (from captcha) (7.1.2)\n",
            "Installing collected packages: captcha\n",
            "Successfully installed captcha-0.3\n"
          ]
        }
      ],
      "source": [
        "# install and load packages\n",
        "! pip install patool\n",
        "! pip install pyunpack\n",
        "! pip install captcha\n",
        "\n",
        "import argparse\n",
        "import os\n",
        "import random\n",
        "import requests\n",
        "import zipfile\n",
        "import errno\n",
        "import torch\n",
        "import torch.nn as nn\n",
        "import torch.optim as optim\n",
        "import torch.utils.data\n",
        "import torchvision.datasets as dset\n",
        "import torchvision.transforms as transforms\n",
        "import torchvision.utils as vutils\n",
        "import numpy as np\n",
        "import pandas as pd\n",
        "import matplotlib.pyplot as plt\n",
        "import matplotlib.image as mpimg\n",
        "from pyunpack import Archive\n",
        "import glob\n",
        "import string\n",
        "from PIL import Image\n",
        "from tqdm import tqdm\n",
        "import torch.nn.functional \n",
        "from sklearn.model_selection import train_test_split\n",
        "from sklearn.metrics import accuracy_score\n",
        "from captcha.image import ImageCaptcha\n",
        "import string\n",
        "import random\n"
      ]
    },
    {
      "cell_type": "code",
      "source": [
        "# connect to google drive for saving models\n",
        "from google.colab import drive\n",
        "drive.mount('/content/drive')"
      ],
      "metadata": {
        "colab": {
          "base_uri": "https://localhost:8080/"
        },
        "id": "Nk9H37H0mBEK",
        "outputId": "c613aef0-ab5b-434a-aa31-daf153926f9f"
      },
      "execution_count": null,
      "outputs": [
        {
          "output_type": "stream",
          "name": "stdout",
          "text": [
            "Mounted at /content/drive\n"
          ]
        }
      ]
    },
    {
      "cell_type": "code",
      "source": [
        "device = 'cuda' if torch.cuda.is_available() else 'cpu'\n",
        "\n",
        "n_cudas = torch.cuda.device_count()\n",
        "\n",
        "print(f'We are now using {device}. There are {n_cudas} available gpus.')\n",
        "\n",
        "if torch.cuda.is_available():\n",
        "    print(f'{torch.cuda.get_device_name(0)}')"
      ],
      "metadata": {
        "colab": {
          "base_uri": "https://localhost:8080/"
        },
        "id": "VGfL-1O056pu",
        "outputId": "802ce0a0-c4be-4532-c9f6-d89ff23244a0"
      },
      "execution_count": null,
      "outputs": [
        {
          "output_type": "stream",
          "name": "stdout",
          "text": [
            "We are now using cuda. There are 1 available gpus.\n",
            "Tesla K80\n"
          ]
        }
      ]
    },
    {
      "cell_type": "markdown",
      "source": [
        "# Data preprocessing"
      ],
      "metadata": {
        "id": "4EvQ5_oAcwNb"
      }
    },
    {
      "cell_type": "code",
      "source": [
        "# new\n",
        "# download files from google drive\n",
        "\n",
        "# load test data\n",
        "!gdown --id 1-74h6oEnYm_8uCDrDNvyO2iy_LSSlLsi\n",
        "\n",
        "! mkdir 'test'\n",
        "\n",
        "Archive('captcha_test.tar.gz').extractall('test')\n",
        "\n",
        "test_labels = os.listdir('test/test')\n",
        "print('test files:', len(test_labels))"
      ],
      "metadata": {
        "colab": {
          "base_uri": "https://localhost:8080/"
        },
        "id": "d_ec29juMUA6",
        "outputId": "c136314e-14d7-4e86-d167-807c095e6ff5"
      },
      "execution_count": null,
      "outputs": [
        {
          "output_type": "stream",
          "name": "stdout",
          "text": [
            "Downloading...\n",
            "From: https://drive.google.com/uc?id=1-74h6oEnYm_8uCDrDNvyO2iy_LSSlLsi\n",
            "To: /content/captcha_test.tar.gz\n",
            "100% 470M/470M [00:06<00:00, 74.9MB/s]\n",
            "test files: 50000\n"
          ]
        }
      ]
    },
    {
      "cell_type": "code",
      "source": [
        "# def code_generator(size=6, chars=string.ascii_uppercase + string.ascii_lowercase + string.digits):\n",
        "def code_generator(size=6, chars=string.ascii_lowercase + string.digits):\n",
        "    \"\"\" Generates alphanumerical code of given length \"\"\"\n",
        "    return ''.join(random.choice(chars) for _ in range(size))"
      ],
      "metadata": {
        "id": "K7iMwCUwM_cK"
      },
      "execution_count": null,
      "outputs": []
    },
    {
      "cell_type": "markdown",
      "source": [
        "## Create Data Loader"
      ],
      "metadata": {
        "id": "lqXCb4a6rXbk"
      }
    },
    {
      "cell_type": "code",
      "source": [
        "workers = 2                           # worker threads for loading the data with the DataLoader\n",
        "batch_size = 512                      # size of batch\n",
        "image_size = [60, 180]                # size of imput images\n",
        "nc = 3                                # number of color channels in the input images\n",
        "\n",
        "# normalization parameters\n",
        "normalize_mean = (0.485, 0.456, 0.406)\n",
        "normalize_std = (0.229, 0.224, 0.225)\n",
        "\n",
        "# for reproducibility\n",
        "manualSeed = 999\n",
        "random.seed(manualSeed)\n",
        "torch.manual_seed(manualSeed)\n",
        "\n",
        "captcha_len = 6"
      ],
      "metadata": {
        "colab": {
          "base_uri": "https://localhost:8080/"
        },
        "id": "0YsU84Q-3k5U",
        "outputId": "fe31d557-ea97-42ca-d093-a5aea97f1abe"
      },
      "execution_count": null,
      "outputs": [
        {
          "output_type": "execute_result",
          "data": {
            "text/plain": [
              "<torch._C.Generator at 0x7f10415a8330>"
            ]
          },
          "metadata": {},
          "execution_count": 6
        }
      ]
    },
    {
      "cell_type": "code",
      "source": [
        "class Custom_Dataset(torch.utils.data.Dataset):\n",
        "    \n",
        "    def __init__(self, data_dir, data_labels):\n",
        "        self.data_dir = data_dir\n",
        "        self.data_labels = data_labels\n",
        "        \n",
        "    def __len__(self):\n",
        "        return len(self.data_labels)\n",
        "    \n",
        "    def __getitem__(self, index):\n",
        "        image_label = self.data_labels[index]\n",
        "        image_fp = os.path.join(self.data_dir, image_label)\n",
        "        image = Image.open(image_fp).convert('RGB')\n",
        "        image = self.transform(image)\n",
        "        text = image_label.split(\".\")[0]\n",
        "        return image, text\n",
        "    \n",
        "    def transform(self, image):\n",
        "        \n",
        "        transform_ops = transforms.Compose([\n",
        "            transforms.Resize(image_size),\n",
        "            transforms.CenterCrop(image_size),\n",
        "            transforms.ToTensor(),\n",
        "            transforms.Normalize(normalize_mean, normalize_std),\n",
        "        ])\n",
        "        return transform_ops(image)"
      ],
      "metadata": {
        "id": "-0jQgJQcrfbL"
      },
      "execution_count": null,
      "outputs": []
    },
    {
      "cell_type": "code",
      "source": [
        "# decide which device we want to run on\n",
        "device = torch.device(\"cuda:0\" if torch.cuda.is_available() else \"cpu\")"
      ],
      "metadata": {
        "id": "f20fA4dgwYz7"
      },
      "execution_count": null,
      "outputs": []
    },
    {
      "cell_type": "code",
      "source": [
        "def UnNormalizeBatch(batch):\n",
        "    for i in range(batch.shape[3]):\n",
        "       batch[:,:,:,i] = (batch[:,:,:,i] * normalize_std[i]) + normalize_mean[i]\n",
        "\n",
        "    return batch"
      ],
      "metadata": {
        "id": "9Qnp4huc3rPX"
      },
      "execution_count": null,
      "outputs": []
    },
    {
      "cell_type": "markdown",
      "source": [
        "# Creating model"
      ],
      "metadata": {
        "id": "smbtQNMSszxr"
      }
    },
    {
      "cell_type": "code",
      "source": [
        "# these are all symbols the captchas will have\n",
        "symbols = string.ascii_uppercase + string.ascii_lowercase + string.digits  \n",
        "symbols_char = {k:v for k,v in enumerate(symbols, start=0)}\n",
        "symbols_idx = {v:k for k,v in symbols_char.items()}\n",
        "num_symbols = len(symbols_idx)"
      ],
      "metadata": {
        "id": "eLGAWbIoWmiz"
      },
      "execution_count": null,
      "outputs": []
    },
    {
      "cell_type": "markdown",
      "source": [
        "## Define model with resnet 18"
      ],
      "metadata": {
        "id": "Zz1EM2hsThCg"
      }
    },
    {
      "cell_type": "code",
      "source": [
        "rnn_hidden_size = 256"
      ],
      "metadata": {
        "id": "ZtEFZYVNTjlz"
      },
      "execution_count": null,
      "outputs": []
    },
    {
      "cell_type": "code",
      "source": [
        "resnet = torch.hub.load('pytorch/vision:v0.10.0', 'resnet18', pretrained=True)"
      ],
      "metadata": {
        "colab": {
          "base_uri": "https://localhost:8080/",
          "height": 84,
          "referenced_widgets": [
            "af0c8b92f0f1420d87366138db591715",
            "1dbf341c3ccb411ea5a6af40ddb2b2b3",
            "cec10b482ff94b19871bc5965237b40d",
            "9570affdd5e14cd3a26579ca31c326ac",
            "31154b9f221e486eafe21c98e47225d9",
            "4b2fd13c2b984d30ac0a493899b61e24",
            "bf74a53fa2e349bf977d14af9b03cf8a",
            "a76c0b6b46f141909ba2edeeb4530215",
            "98d6a65df2e646b19d7f64c781f2e90b",
            "640cb83aa36e453c953e19d06090ceca",
            "34068a3c090741279f90264d8c0ecbf4"
          ]
        },
        "id": "h_EgsYerm-Gk",
        "outputId": "5dda59c5-d1f0-48fb-a4ba-4e0a5128fdd7"
      },
      "execution_count": null,
      "outputs": [
        {
          "output_type": "stream",
          "name": "stderr",
          "text": [
            "Downloading: \"https://github.com/pytorch/vision/archive/v0.10.0.zip\" to /root/.cache/torch/hub/v0.10.0.zip\n",
            "Downloading: \"https://download.pytorch.org/models/resnet18-f37072fd.pth\" to /root/.cache/torch/hub/checkpoints/resnet18-f37072fd.pth\n"
          ]
        },
        {
          "output_type": "display_data",
          "data": {
            "application/vnd.jupyter.widget-view+json": {
              "model_id": "af0c8b92f0f1420d87366138db591715",
              "version_minor": 0,
              "version_major": 2
            },
            "text/plain": [
              "  0%|          | 0.00/44.7M [00:00<?, ?B/s]"
            ]
          },
          "metadata": {}
        }
      ]
    },
    {
      "cell_type": "code",
      "source": [
        "class CTC(nn.Module):\n",
        "    \n",
        "    def __init__(self, num_symbols, rnn_hidden_size=256, dropout=0.1):\n",
        "        \n",
        "        super(CTC, self).__init__()\n",
        "        self.num_chars = num_symbols\n",
        "        self.rnn_hidden_size = rnn_hidden_size\n",
        "        self.dropout = dropout\n",
        "        \n",
        "        # CNN Part 1\n",
        "        resnet_modules = list(resnet.children())[:-3]\n",
        "        self.cnn_p1 = nn.Sequential(*resnet_modules)\n",
        "        \n",
        "        # CNN Part 2 - for resnet18\n",
        "        self.cnn_p2 = nn.Sequential(\n",
        "            nn.Conv2d(256, 256, kernel_size=(3,6), stride=1, padding=1),\n",
        "            nn.BatchNorm2d(256),\n",
        "            nn.ReLU(inplace=True)\n",
        "        )\n",
        "        self.linear1 = nn.Linear(1024, 256)\n",
        "\n",
        "        \n",
        "        # RNN\n",
        "        self.rnn1 = nn.GRU(input_size=rnn_hidden_size, \n",
        "                            hidden_size=rnn_hidden_size,\n",
        "                            bidirectional=True, \n",
        "                            batch_first=True)\n",
        "        self.rnn2 = nn.GRU(input_size=rnn_hidden_size, \n",
        "                            hidden_size=rnn_hidden_size,\n",
        "                            bidirectional=True, \n",
        "                            batch_first=True)\n",
        "        self.linear2 = nn.Linear(self.rnn_hidden_size*2, num_symbols)\n",
        "        \n",
        "    def forward(self, batch):\n",
        "        \n",
        "        batch = self.cnn_p1(batch)\n",
        "        # print(batch.size()) # torch.Size([-1, 256, 4, 13])\n",
        "        \n",
        "        batch = self.cnn_p2(batch) # [batch_size, channels, height, width]\n",
        "        # print(batch.size())# torch.Size([-1, 256, 4, 10])\n",
        "        \n",
        "        batch = batch.permute(0, 3, 1, 2) # [batch_size, width, channels, height]\n",
        "        # print(batch.size()) # torch.Size([-1, 10, 256, 4])\n",
        "         \n",
        "        batch_size = batch.size(0)\n",
        "        T = batch.size(1)\n",
        "        batch = batch.view(batch_size, T, -1) # [batch_size, T==width, num_features==channels*height]\n",
        "        # print(batch.size()) # torch.Size([-1, 10, 1024])\n",
        "        \n",
        "        batch = self.linear1(batch)\n",
        "        # print(batch.size()) # torch.Size([-1, 10, 256])\n",
        "        \n",
        "        batch, hidden = self.rnn1(batch)\n",
        "        feature_size = batch.size(2)\n",
        "        batch = batch[:, :, :feature_size//2] + batch[:, :, feature_size//2:]\n",
        "        # print(batch.size()) # torch.Size([-1, 10, 256])\n",
        "        \n",
        "        batch, hidden = self.rnn2(batch)\n",
        "        # print(batch.size()) # torch.Size([-1, 10, 512])\n",
        "        \n",
        "        batch = self.linear2(batch)\n",
        "        # print(batch.size()) # torch.Size([-1, 10, 20])\n",
        "        \n",
        "        batch = batch.permute(1, 0, 2) # [T==10, batch_size, num_classes==num_features]\n",
        "        # print(batch.size()) # torch.Size([10, -1, 20])\n",
        "        \n",
        "        return batch"
      ],
      "metadata": {
        "id": "hzBk2yTVn4vD"
      },
      "execution_count": null,
      "outputs": []
    },
    {
      "cell_type": "code",
      "source": [
        "def weights_init(m):\n",
        "    classname = m.__class__.__name__\n",
        "    if type(m) in [nn.Linear, nn.Conv2d, nn.Conv1d]:\n",
        "        torch.nn.init.xavier_uniform_(m.weight)\n",
        "        if m.bias is not None:\n",
        "            m.bias.data.fill_(0.01)\n",
        "    elif classname.find('BatchNorm') != -1:\n",
        "        m.weight.data.normal_(1.0, 0.02)\n",
        "        m.bias.data.fill_(0)"
      ],
      "metadata": {
        "id": "6kWHuSQEoxOw"
      },
      "execution_count": null,
      "outputs": []
    },
    {
      "cell_type": "code",
      "source": [
        "ctc = CTC(num_symbols, rnn_hidden_size=rnn_hidden_size)\n",
        "ctc.apply(weights_init)\n",
        "ctc = ctc.to(device)"
      ],
      "metadata": {
        "id": "52lBNN74o1IW"
      },
      "execution_count": null,
      "outputs": []
    },
    {
      "cell_type": "code",
      "source": [
        "ctc"
      ],
      "metadata": {
        "colab": {
          "base_uri": "https://localhost:8080/"
        },
        "id": "mGTBkGu9o-_3",
        "outputId": "91b84053-a07b-4bdd-9178-97e310150ca9"
      },
      "execution_count": null,
      "outputs": [
        {
          "output_type": "execute_result",
          "data": {
            "text/plain": [
              "CTC(\n",
              "  (cnn_p1): Sequential(\n",
              "    (0): Conv2d(3, 64, kernel_size=(7, 7), stride=(2, 2), padding=(3, 3), bias=False)\n",
              "    (1): BatchNorm2d(64, eps=1e-05, momentum=0.1, affine=True, track_running_stats=True)\n",
              "    (2): ReLU(inplace=True)\n",
              "    (3): MaxPool2d(kernel_size=3, stride=2, padding=1, dilation=1, ceil_mode=False)\n",
              "    (4): Sequential(\n",
              "      (0): BasicBlock(\n",
              "        (conv1): Conv2d(64, 64, kernel_size=(3, 3), stride=(1, 1), padding=(1, 1), bias=False)\n",
              "        (bn1): BatchNorm2d(64, eps=1e-05, momentum=0.1, affine=True, track_running_stats=True)\n",
              "        (relu): ReLU(inplace=True)\n",
              "        (conv2): Conv2d(64, 64, kernel_size=(3, 3), stride=(1, 1), padding=(1, 1), bias=False)\n",
              "        (bn2): BatchNorm2d(64, eps=1e-05, momentum=0.1, affine=True, track_running_stats=True)\n",
              "      )\n",
              "      (1): BasicBlock(\n",
              "        (conv1): Conv2d(64, 64, kernel_size=(3, 3), stride=(1, 1), padding=(1, 1), bias=False)\n",
              "        (bn1): BatchNorm2d(64, eps=1e-05, momentum=0.1, affine=True, track_running_stats=True)\n",
              "        (relu): ReLU(inplace=True)\n",
              "        (conv2): Conv2d(64, 64, kernel_size=(3, 3), stride=(1, 1), padding=(1, 1), bias=False)\n",
              "        (bn2): BatchNorm2d(64, eps=1e-05, momentum=0.1, affine=True, track_running_stats=True)\n",
              "      )\n",
              "    )\n",
              "    (5): Sequential(\n",
              "      (0): BasicBlock(\n",
              "        (conv1): Conv2d(64, 128, kernel_size=(3, 3), stride=(2, 2), padding=(1, 1), bias=False)\n",
              "        (bn1): BatchNorm2d(128, eps=1e-05, momentum=0.1, affine=True, track_running_stats=True)\n",
              "        (relu): ReLU(inplace=True)\n",
              "        (conv2): Conv2d(128, 128, kernel_size=(3, 3), stride=(1, 1), padding=(1, 1), bias=False)\n",
              "        (bn2): BatchNorm2d(128, eps=1e-05, momentum=0.1, affine=True, track_running_stats=True)\n",
              "        (downsample): Sequential(\n",
              "          (0): Conv2d(64, 128, kernel_size=(1, 1), stride=(2, 2), bias=False)\n",
              "          (1): BatchNorm2d(128, eps=1e-05, momentum=0.1, affine=True, track_running_stats=True)\n",
              "        )\n",
              "      )\n",
              "      (1): BasicBlock(\n",
              "        (conv1): Conv2d(128, 128, kernel_size=(3, 3), stride=(1, 1), padding=(1, 1), bias=False)\n",
              "        (bn1): BatchNorm2d(128, eps=1e-05, momentum=0.1, affine=True, track_running_stats=True)\n",
              "        (relu): ReLU(inplace=True)\n",
              "        (conv2): Conv2d(128, 128, kernel_size=(3, 3), stride=(1, 1), padding=(1, 1), bias=False)\n",
              "        (bn2): BatchNorm2d(128, eps=1e-05, momentum=0.1, affine=True, track_running_stats=True)\n",
              "      )\n",
              "    )\n",
              "    (6): Sequential(\n",
              "      (0): BasicBlock(\n",
              "        (conv1): Conv2d(128, 256, kernel_size=(3, 3), stride=(2, 2), padding=(1, 1), bias=False)\n",
              "        (bn1): BatchNorm2d(256, eps=1e-05, momentum=0.1, affine=True, track_running_stats=True)\n",
              "        (relu): ReLU(inplace=True)\n",
              "        (conv2): Conv2d(256, 256, kernel_size=(3, 3), stride=(1, 1), padding=(1, 1), bias=False)\n",
              "        (bn2): BatchNorm2d(256, eps=1e-05, momentum=0.1, affine=True, track_running_stats=True)\n",
              "        (downsample): Sequential(\n",
              "          (0): Conv2d(128, 256, kernel_size=(1, 1), stride=(2, 2), bias=False)\n",
              "          (1): BatchNorm2d(256, eps=1e-05, momentum=0.1, affine=True, track_running_stats=True)\n",
              "        )\n",
              "      )\n",
              "      (1): BasicBlock(\n",
              "        (conv1): Conv2d(256, 256, kernel_size=(3, 3), stride=(1, 1), padding=(1, 1), bias=False)\n",
              "        (bn1): BatchNorm2d(256, eps=1e-05, momentum=0.1, affine=True, track_running_stats=True)\n",
              "        (relu): ReLU(inplace=True)\n",
              "        (conv2): Conv2d(256, 256, kernel_size=(3, 3), stride=(1, 1), padding=(1, 1), bias=False)\n",
              "        (bn2): BatchNorm2d(256, eps=1e-05, momentum=0.1, affine=True, track_running_stats=True)\n",
              "      )\n",
              "    )\n",
              "  )\n",
              "  (cnn_p2): Sequential(\n",
              "    (0): Conv2d(256, 256, kernel_size=(3, 6), stride=(1, 1), padding=(1, 1))\n",
              "    (1): BatchNorm2d(256, eps=1e-05, momentum=0.1, affine=True, track_running_stats=True)\n",
              "    (2): ReLU(inplace=True)\n",
              "  )\n",
              "  (linear1): Linear(in_features=1024, out_features=256, bias=True)\n",
              "  (rnn1): GRU(256, 256, batch_first=True, bidirectional=True)\n",
              "  (rnn2): GRU(256, 256, batch_first=True, bidirectional=True)\n",
              "  (linear2): Linear(in_features=512, out_features=62, bias=True)\n",
              ")"
            ]
          },
          "metadata": {},
          "execution_count": 16
        }
      ]
    },
    {
      "cell_type": "markdown",
      "source": [
        "## Define loss"
      ],
      "metadata": {
        "id": "FHnU_l_GsFrZ"
      }
    },
    {
      "cell_type": "code",
      "source": [
        "criterion = nn.CTCLoss(blank=0)"
      ],
      "metadata": {
        "id": "tFnIFM2WsB1V"
      },
      "execution_count": null,
      "outputs": []
    },
    {
      "cell_type": "code",
      "source": [
        "def encode_text_batch(text_batch):\n",
        "    \n",
        "    text_batch_targets_lens = [len(text) for text in text_batch]\n",
        "    text_batch_targets_lens = torch.IntTensor(text_batch_targets_lens)\n",
        "    \n",
        "    text_batch_concat = \"\".join(text_batch)\n",
        "    text_batch_targets = [symbols_idx[c] for c in text_batch_concat]\n",
        "    text_batch_targets = torch.IntTensor(text_batch_targets)\n",
        "    \n",
        "    return text_batch_targets, text_batch_targets_lens"
      ],
      "metadata": {
        "id": "7ydTd6s-t_Ek"
      },
      "execution_count": null,
      "outputs": []
    },
    {
      "cell_type": "code",
      "source": [
        "def compute_loss(text_batch, text_batch_logits):\n",
        "    \"\"\"\n",
        "    text_batch: list of strings of length equal to batch size\n",
        "    text_batch_logits: Tensor of size([T, batch_size, num_classes])\n",
        "    \"\"\"\n",
        "    text_batch_logps = torch.nn.functional.log_softmax(text_batch_logits, 2) # [T, batch_size, num_classes]  \n",
        "    text_batch_logps_lens = torch.full(size=(text_batch_logps.size(1),), \n",
        "                                       fill_value=text_batch_logps.size(0), \n",
        "                                       dtype=torch.int32).to(device) # [batch_size] \n",
        "    #print(text_batch_logps.shape)\n",
        "    #print(text_batch_logps_lens) \n",
        "    text_batch_targets, text_batch_targets_lens = encode_text_batch(text_batch)\n",
        "    #print(text_batch_targets)\n",
        "    #print(text_batch_targets_lens)\n",
        "    loss = criterion(text_batch_logps, text_batch_targets, text_batch_logps_lens, text_batch_targets_lens)\n",
        "\n",
        "    return loss"
      ],
      "metadata": {
        "id": "whmgBI5buBsx"
      },
      "execution_count": null,
      "outputs": []
    },
    {
      "cell_type": "markdown",
      "source": [
        "# Save checkpoint function"
      ],
      "metadata": {
        "id": "1gqy9sYnna7W"
      }
    },
    {
      "cell_type": "code",
      "source": [
        "def save_checkpoint(n_epochs, model, optimizer, losses, version = 0):\n",
        "    checkpoint = {'epoch': n_epochs,\n",
        "              'model_state_dict': model.state_dict(),\n",
        "              'optimizer_state_dict': optimizer.state_dict(),\n",
        "              'loss': losses}\n",
        "\n",
        "    torch.save(checkpoint, '/content/drive/MyDrive/Colab Notebooks/01SU2/CAPTCHA/final_model_7_checkpoint_{}.pth'.format(version))"
      ],
      "metadata": {
        "id": "b24Besg9nZuF"
      },
      "execution_count": null,
      "outputs": []
    },
    {
      "cell_type": "markdown",
      "source": [
        "## Train model"
      ],
      "metadata": {
        "id": "2kJNSkPjxAx8"
      }
    },
    {
      "cell_type": "code",
      "source": [
        "num_epochs = 4\n",
        "lr = 0.001\n",
        "weight_decay = 1e-3\n",
        "clip_norm = 8\n",
        "\n",
        "n_generating = 8\n",
        "! mkdir 'train'\n",
        "! mkdir 'train/train'"
      ],
      "metadata": {
        "id": "nGzKxoIKuFyI"
      },
      "execution_count": null,
      "outputs": []
    },
    {
      "cell_type": "code",
      "source": [
        "optimizer = optim.Adam(ctc.parameters(), lr=lr, weight_decay=weight_decay)\n",
        "lr_scheduler = optim.lr_scheduler.ReduceLROnPlateau(optimizer, verbose=True, patience=5)"
      ],
      "metadata": {
        "id": "4AgOFaLfxCZI"
      },
      "execution_count": null,
      "outputs": []
    },
    {
      "cell_type": "code",
      "source": [
        "ctc = CTC(num_symbols, rnn_hidden_size=rnn_hidden_size)\n",
        "ctc.apply(weights_init)\n",
        "ctc = ctc.to(device)"
      ],
      "metadata": {
        "id": "Ao8_Z4xyxD77"
      },
      "execution_count": null,
      "outputs": []
    },
    {
      "cell_type": "code",
      "source": [
        "# load checkpoint - run when continue training\n",
        "\n",
        "checkpoint = torch.load('/content/drive/MyDrive/Colab Notebooks/01SU2/CAPTCHA/final_model_7_checkpoint_32.pth')\n",
        "\n",
        "ctc.load_state_dict(checkpoint['model_state_dict'])\n",
        "optimizer.load_state_dict(checkpoint['optimizer_state_dict'])\n",
        "\n",
        "num_updates_epochs = checkpoint['epoch']\n",
        "epoch_losses = checkpoint['loss']\n",
        "\n",
        "iteration_losses = []\n",
        "\n",
        "ctc.train() # always use TRAIN for resuming training\n",
        "\n",
        "version_of_model = 33"
      ],
      "metadata": {
        "id": "nZxTIMepq4H_"
      },
      "execution_count": null,
      "outputs": []
    },
    {
      "cell_type": "code",
      "source": [
        "# run when starting new training\n",
        "epoch_losses = []\n",
        "iteration_losses = []\n",
        "num_updates_epochs = []\n",
        "\n",
        "version_of_model = 1\n"
      ],
      "metadata": {
        "id": "IjXISIVEqiVx"
      },
      "execution_count": null,
      "outputs": []
    },
    {
      "cell_type": "code",
      "source": [
        "# train with new data every couple of iteration\n",
        "\n",
        "# inicialize CAPTCHA with custom fonts:\n",
        "fonts = ['/content/drive/MyDrive/Colab Notebooks/01SU2/CAPTCHA/fonts/calibri.ttf',\n",
        "         '/content/drive/MyDrive/Colab Notebooks/01SU2/CAPTCHA/fonts/times.ttf',\n",
        "         '/content/drive/MyDrive/Colab Notebooks/01SU2/CAPTCHA/fonts/arial.ttf']\n",
        "image = ImageCaptcha(width = 180, height = 80, fonts = fonts) \n",
        "\n",
        "N = 100000                      # number of generated codes\n",
        "\n",
        "for generation in range(n_generating):\n",
        "\n",
        "    !rm -rf train\n",
        "    ! mkdir 'train'\n",
        "    ! mkdir 'train/train'\n",
        "\n",
        "    # generate captcha codes\n",
        "    for i in tqdm(range(N)):\n",
        "        label = code_generator(captcha_len)\n",
        "        # save in separate png files:\n",
        "        image.write(label,'train/train/{}.png'.format(label))\n",
        "\n",
        "    train_labels = os.listdir('train/train')\n",
        "\n",
        "    dataset_train = Custom_Dataset('train/train', train_labels) \n",
        "\n",
        "    train_loader = torch.utils.data.DataLoader(dataset_train, batch_size=batch_size, num_workers=workers, shuffle=True)\n",
        "\n",
        "    help_const = 0\n",
        "\n",
        "    for epoch in tqdm(range(1, num_epochs+1)):\n",
        "        epoch_loss_list = [] \n",
        "        num_updates_epoch = 0\n",
        "        for image_batch, text_batch in train_loader:\n",
        "            optimizer.zero_grad()\n",
        "            text_batch_logits = ctc(image_batch.to(device))\n",
        "            loss = compute_loss(text_batch, text_batch_logits)\n",
        "            iteration_loss = loss.item()\n",
        "\n",
        "            if np.isnan(iteration_loss) or np.isinf(iteration_loss):\n",
        "                continue\n",
        "              \n",
        "            num_updates_epoch += 1\n",
        "            iteration_losses.append(iteration_loss)\n",
        "            epoch_loss_list.append(iteration_loss)\n",
        "            loss.backward()\n",
        "            nn.utils.clip_grad_norm_(ctc.parameters(), clip_norm)\n",
        "            optimizer.step()\n",
        "\n",
        "            help_const = help_const + 1\n",
        "            if (help_const % 50 == 0):\n",
        "                print(\"Batch:{}    Loss:{}\".format(help_const, np.mean(epoch_loss_list)))\n",
        "\n",
        "        epoch_loss = np.mean(epoch_loss_list)\n",
        "        print(\"Epoch:{}    Loss:{}    NumUpdates:{}\".format(epoch, epoch_loss, num_updates_epoch))\n",
        "        epoch_losses.append(epoch_loss)\n",
        "        num_updates_epochs.append(num_updates_epoch)\n",
        "        lr_scheduler.step(epoch_loss)\n",
        "\n",
        "        save_checkpoint(num_updates_epochs, ctc, optimizer, epoch_losses, version_of_model)\n",
        "        version_of_model = version_of_model + 1\n",
        "\n",
        "        help_const = 0\n",
        "\n",
        "    print('\\n GENERATION: {} \\n'.format(generation))\n"
      ],
      "metadata": {
        "id": "WbGqqJtYLPzh",
        "colab": {
          "base_uri": "https://localhost:8080/"
        },
        "outputId": "1061dafe-5b34-4289-e4e0-e05bde913452"
      },
      "execution_count": null,
      "outputs": [
        {
          "output_type": "stream",
          "name": "stderr",
          "text": [
            "100%|██████████| 100000/100000 [12:56<00:00, 128.81it/s]\n",
            "  0%|          | 0/4 [00:00<?, ?it/s]"
          ]
        },
        {
          "output_type": "stream",
          "name": "stdout",
          "text": [
            "Batch:50    Loss:4.161618657112122\n",
            "Batch:100    Loss:3.8808073878288267\n",
            "Batch:150    Loss:3.5590595483779905\n",
            "Epoch:1    Loss:3.312900805959896    NumUpdates:196\n"
          ]
        },
        {
          "output_type": "stream",
          "name": "stderr",
          "text": [
            "\r 25%|██▌       | 1/4 [04:22<13:08, 262.68s/it]"
          ]
        },
        {
          "output_type": "stream",
          "name": "stdout",
          "text": [
            "Batch:50    Loss:2.3362789869308473\n",
            "Batch:100    Loss:2.2606256771087647\n",
            "Batch:150    Loss:2.212877599398295\n",
            "Epoch:2    Loss:2.1789122527959397    NumUpdates:196\n"
          ]
        },
        {
          "output_type": "stream",
          "name": "stderr",
          "text": [
            "\r 50%|█████     | 2/4 [08:45<08:44, 262.48s/it]"
          ]
        },
        {
          "output_type": "stream",
          "name": "stdout",
          "text": [
            "Batch:50    Loss:2.0341687774658204\n",
            "Batch:100    Loss:2.0132523906230926\n",
            "Batch:150    Loss:1.996072280406952\n",
            "Epoch:3    Loss:1.9838637904245027    NumUpdates:196\n"
          ]
        },
        {
          "output_type": "stream",
          "name": "stderr",
          "text": [
            "\r 75%|███████▌  | 3/4 [13:07<04:22, 262.69s/it]"
          ]
        },
        {
          "output_type": "stream",
          "name": "stdout",
          "text": [
            "Batch:50    Loss:1.974479615688324\n",
            "Batch:100    Loss:1.933497896194458\n",
            "Batch:150    Loss:1.9174854556719463\n",
            "Epoch:4    Loss:1.908645280769893    NumUpdates:196\n"
          ]
        },
        {
          "output_type": "stream",
          "name": "stderr",
          "text": [
            "100%|██████████| 4/4 [17:31<00:00, 262.82s/it]\n"
          ]
        },
        {
          "output_type": "stream",
          "name": "stdout",
          "text": [
            "\n",
            " GENERATION: 0 \n",
            "\n"
          ]
        },
        {
          "output_type": "stream",
          "name": "stderr",
          "text": [
            "100%|██████████| 100000/100000 [12:46<00:00, 130.41it/s]\n",
            "  0%|          | 0/4 [00:00<?, ?it/s]"
          ]
        },
        {
          "output_type": "stream",
          "name": "stdout",
          "text": [
            "Batch:50    Loss:1.917186851501465\n",
            "Batch:100    Loss:1.8856223356723785\n",
            "Batch:150    Loss:1.8752219287554424\n",
            "Epoch:1    Loss:1.871935253848835    NumUpdates:196\n"
          ]
        },
        {
          "output_type": "stream",
          "name": "stderr",
          "text": [
            "\r 25%|██▌       | 1/4 [04:22<13:08, 262.68s/it]"
          ]
        },
        {
          "output_type": "stream",
          "name": "stdout",
          "text": [
            "Batch:50    Loss:1.8476201748847962\n",
            "Batch:100    Loss:1.8322627079486846\n",
            "Batch:150    Loss:1.8281015865008037\n",
            "Epoch:2    Loss:1.8238538083981495    NumUpdates:196\n"
          ]
        },
        {
          "output_type": "stream",
          "name": "stderr",
          "text": [
            "\r 50%|█████     | 2/4 [08:45<08:45, 262.93s/it]"
          ]
        },
        {
          "output_type": "stream",
          "name": "stdout",
          "text": [
            "Batch:50    Loss:1.8063546538352966\n",
            "Batch:100    Loss:1.8004949808120727\n",
            "Batch:150    Loss:1.8004663372039795\n",
            "Epoch:3    Loss:1.7981483808585577    NumUpdates:196\n"
          ]
        },
        {
          "output_type": "stream",
          "name": "stderr",
          "text": [
            "\r 75%|███████▌  | 3/4 [13:09<04:23, 263.07s/it]"
          ]
        },
        {
          "output_type": "stream",
          "name": "stdout",
          "text": [
            "Batch:50    Loss:1.8982310438156127\n",
            "Batch:100    Loss:1.8395200657844544\n",
            "Batch:150    Loss:1.8157100145022074\n",
            "Epoch:4    Loss:1.8020513179350872    NumUpdates:196\n"
          ]
        },
        {
          "output_type": "stream",
          "name": "stderr",
          "text": [
            "100%|██████████| 4/4 [17:31<00:00, 262.93s/it]\n"
          ]
        },
        {
          "output_type": "stream",
          "name": "stdout",
          "text": [
            "\n",
            " GENERATION: 1 \n",
            "\n"
          ]
        },
        {
          "output_type": "stream",
          "name": "stderr",
          "text": [
            "100%|██████████| 100000/100000 [12:46<00:00, 130.52it/s]\n",
            "  0%|          | 0/4 [00:00<?, ?it/s]"
          ]
        },
        {
          "output_type": "stream",
          "name": "stdout",
          "text": [
            "Batch:50    Loss:1.7890485882759095\n",
            "Batch:100    Loss:1.7725994884967804\n",
            "Batch:150    Loss:1.765344557762146\n",
            "Epoch:1    Loss:1.7614600786140986    NumUpdates:196\n"
          ]
        },
        {
          "output_type": "stream",
          "name": "stderr",
          "text": [
            "\r 25%|██▌       | 1/4 [04:23<13:09, 263.07s/it]"
          ]
        },
        {
          "output_type": "stream",
          "name": "stdout",
          "text": [
            "Batch:50    Loss:1.7927811765670776\n",
            "Batch:100    Loss:1.7657584810256959\n",
            "Batch:150    Loss:1.7559511987368266\n",
            "Epoch:2    Loss:1.7491102133478438    NumUpdates:196\n"
          ]
        },
        {
          "output_type": "stream",
          "name": "stderr",
          "text": [
            "\r 50%|█████     | 2/4 [08:45<08:45, 262.98s/it]"
          ]
        },
        {
          "output_type": "stream",
          "name": "stdout",
          "text": [
            "Batch:50    Loss:1.7325407719612123\n",
            "Batch:100    Loss:1.7244958925247191\n",
            "Batch:150    Loss:1.7224806467692058\n",
            "Epoch:3    Loss:1.7205016728566618    NumUpdates:196\n"
          ]
        },
        {
          "output_type": "stream",
          "name": "stderr",
          "text": [
            "\r 75%|███████▌  | 3/4 [13:08<04:22, 262.86s/it]"
          ]
        },
        {
          "output_type": "stream",
          "name": "stdout",
          "text": [
            "Batch:50    Loss:1.723230459690094\n",
            "Batch:100    Loss:1.7144581365585327\n",
            "Batch:150    Loss:1.7136588350931803\n",
            "Epoch:4    Loss:1.7171435733230747    NumUpdates:196\n"
          ]
        },
        {
          "output_type": "stream",
          "name": "stderr",
          "text": [
            "100%|██████████| 4/4 [17:31<00:00, 262.76s/it]\n"
          ]
        },
        {
          "output_type": "stream",
          "name": "stdout",
          "text": [
            "\n",
            " GENERATION: 2 \n",
            "\n"
          ]
        },
        {
          "output_type": "stream",
          "name": "stderr",
          "text": [
            "100%|██████████| 100000/100000 [12:42<00:00, 131.12it/s]\n",
            "  0%|          | 0/4 [00:00<?, ?it/s]"
          ]
        },
        {
          "output_type": "stream",
          "name": "stdout",
          "text": [
            "Batch:50    Loss:1.7570048093795776\n",
            "Batch:100    Loss:1.745176784992218\n",
            "Batch:150    Loss:1.7323874640464783\n",
            "Epoch:1    Loss:1.7302536064264726    NumUpdates:196\n"
          ]
        },
        {
          "output_type": "stream",
          "name": "stderr",
          "text": [
            "\r 25%|██▌       | 1/4 [04:21<13:05, 261.71s/it]"
          ]
        },
        {
          "output_type": "stream",
          "name": "stdout",
          "text": [
            "Batch:50    Loss:1.7378915309906007\n",
            "Batch:100    Loss:1.715721687078476\n",
            "Batch:150    Loss:1.711082162062327\n",
            "Epoch:2    Loss:1.7103958482644996    NumUpdates:196\n"
          ]
        },
        {
          "output_type": "stream",
          "name": "stderr",
          "text": [
            "\r 50%|█████     | 2/4 [08:43<08:43, 261.95s/it]"
          ]
        },
        {
          "output_type": "stream",
          "name": "stdout",
          "text": [
            "Batch:50    Loss:1.719812684059143\n",
            "Batch:100    Loss:1.7053256392478944\n",
            "Batch:150    Loss:1.7055106242497762\n",
            "Epoch:3    Loss:1.7024180834390679    NumUpdates:196\n"
          ]
        },
        {
          "output_type": "stream",
          "name": "stderr",
          "text": [
            "\r 75%|███████▌  | 3/4 [13:06<04:22, 262.37s/it]"
          ]
        },
        {
          "output_type": "stream",
          "name": "stdout",
          "text": [
            "Batch:50    Loss:1.71911536693573\n",
            "Batch:100    Loss:1.7061150193214416\n",
            "Batch:150    Loss:1.7011208573977152\n",
            "Epoch:4    Loss:1.6992411011335802    NumUpdates:196\n"
          ]
        },
        {
          "output_type": "stream",
          "name": "stderr",
          "text": [
            "100%|██████████| 4/4 [17:29<00:00, 262.36s/it]\n"
          ]
        },
        {
          "output_type": "stream",
          "name": "stdout",
          "text": [
            "\n",
            " GENERATION: 3 \n",
            "\n"
          ]
        },
        {
          "output_type": "stream",
          "name": "stderr",
          "text": [
            "100%|██████████| 100000/100000 [12:40<00:00, 131.50it/s]\n",
            "  0%|          | 0/4 [00:00<?, ?it/s]"
          ]
        },
        {
          "output_type": "stream",
          "name": "stdout",
          "text": [
            "Batch:50    Loss:1.7420431661605835\n",
            "Batch:100    Loss:1.724469940662384\n",
            "Batch:150    Loss:1.7154380035400392\n",
            "Epoch:1    Loss:1.7159215449070444    NumUpdates:196\n"
          ]
        },
        {
          "output_type": "stream",
          "name": "stderr",
          "text": [
            "\r 25%|██▌       | 1/4 [04:22<13:07, 262.63s/it]"
          ]
        },
        {
          "output_type": "stream",
          "name": "stdout",
          "text": [
            "Batch:50    Loss:1.7210003685951234\n",
            "Batch:100    Loss:1.704667594432831\n",
            "Batch:150    Loss:1.700545888741811\n",
            "Epoch:2    Loss:1.6971072366043014    NumUpdates:196\n"
          ]
        },
        {
          "output_type": "stream",
          "name": "stderr",
          "text": [
            "\r 50%|█████     | 2/4 [08:45<08:45, 262.77s/it]"
          ]
        },
        {
          "output_type": "stream",
          "name": "stdout",
          "text": [
            "Batch:50    Loss:1.6937019109725953\n",
            "Batch:100    Loss:1.6910976576805115\n",
            "Batch:150    Loss:1.6887532726923624\n",
            "Epoch:3    Loss:1.6872964264178762    NumUpdates:196\n"
          ]
        },
        {
          "output_type": "stream",
          "name": "stderr",
          "text": [
            "\r 75%|███████▌  | 3/4 [13:08<04:22, 262.88s/it]"
          ]
        },
        {
          "output_type": "stream",
          "name": "stdout",
          "text": [
            "Batch:50    Loss:1.6996954250335694\n",
            "Batch:100    Loss:1.692477548122406\n",
            "Batch:150    Loss:1.6883687178293865\n",
            "Epoch:4    Loss:1.6889746493222761    NumUpdates:196\n"
          ]
        },
        {
          "output_type": "stream",
          "name": "stderr",
          "text": [
            "100%|██████████| 4/4 [17:30<00:00, 262.63s/it]\n"
          ]
        },
        {
          "output_type": "stream",
          "name": "stdout",
          "text": [
            "\n",
            " GENERATION: 4 \n",
            "\n"
          ]
        },
        {
          "output_type": "stream",
          "name": "stderr",
          "text": [
            "100%|██████████| 100000/100000 [12:38<00:00, 131.76it/s]\n",
            "  0%|          | 0/4 [00:00<?, ?it/s]"
          ]
        },
        {
          "output_type": "stream",
          "name": "stdout",
          "text": [
            "Batch:50    Loss:1.7278195095062256\n",
            "Batch:100    Loss:1.7121091973781586\n",
            "Batch:150    Loss:1.702640832265218\n",
            "Epoch:1    Loss:1.6992414289591264    NumUpdates:196\n"
          ]
        },
        {
          "output_type": "stream",
          "name": "stderr",
          "text": [
            "\r 25%|██▌       | 1/4 [04:22<13:07, 262.53s/it]"
          ]
        },
        {
          "output_type": "stream",
          "name": "stdout",
          "text": [
            "Batch:50    Loss:1.685750207901001\n",
            "Batch:100    Loss:1.679483196735382\n",
            "Batch:150    Loss:1.6806453959147136\n",
            "Epoch:2    Loss:1.6805991603403676    NumUpdates:196\n"
          ]
        },
        {
          "output_type": "stream",
          "name": "stderr",
          "text": [
            "\r 50%|█████     | 2/4 [08:44<08:44, 262.12s/it]"
          ]
        },
        {
          "output_type": "stream",
          "name": "stdout",
          "text": [
            "Batch:50    Loss:1.7030955862998962\n",
            "Batch:100    Loss:1.685194284915924\n",
            "Batch:150    Loss:1.6830695788065593\n",
            "Epoch:3    Loss:1.6821831750626466    NumUpdates:196\n"
          ]
        },
        {
          "output_type": "stream",
          "name": "stderr",
          "text": [
            "\r 75%|███████▌  | 3/4 [13:06<04:22, 262.33s/it]"
          ]
        },
        {
          "output_type": "stream",
          "name": "stdout",
          "text": [
            "Batch:50    Loss:1.6794886112213134\n",
            "Batch:100    Loss:1.676500941514969\n",
            "Batch:150    Loss:1.6783386985460917\n",
            "Epoch:4    Loss:1.6790597669932308    NumUpdates:196\n"
          ]
        },
        {
          "output_type": "stream",
          "name": "stderr",
          "text": [
            "100%|██████████| 4/4 [17:29<00:00, 262.42s/it]\n"
          ]
        },
        {
          "output_type": "stream",
          "name": "stdout",
          "text": [
            "\n",
            " GENERATION: 5 \n",
            "\n"
          ]
        },
        {
          "output_type": "stream",
          "name": "stderr",
          "text": [
            "100%|██████████| 100000/100000 [12:19<00:00, 135.14it/s]\n",
            "  0%|          | 0/4 [00:00<?, ?it/s]"
          ]
        },
        {
          "output_type": "stream",
          "name": "stdout",
          "text": [
            "Batch:50    Loss:1.7151965641975402\n",
            "Batch:100    Loss:1.7035944521427155\n",
            "Batch:150    Loss:1.7011944309870402\n",
            "Epoch:1    Loss:1.697953260066558    NumUpdates:196\n"
          ]
        },
        {
          "output_type": "stream",
          "name": "stderr",
          "text": [
            "\r 25%|██▌       | 1/4 [04:22<13:06, 262.26s/it]"
          ]
        },
        {
          "output_type": "stream",
          "name": "stdout",
          "text": [
            "Batch:50    Loss:1.7014563035964967\n",
            "Batch:100    Loss:1.6868490386009216\n",
            "Batch:150    Loss:1.679487164815267\n",
            "Epoch:2    Loss:1.6787361636453746    NumUpdates:196\n"
          ]
        },
        {
          "output_type": "stream",
          "name": "stderr",
          "text": [
            "\r 50%|█████     | 2/4 [08:44<08:44, 262.16s/it]"
          ]
        },
        {
          "output_type": "stream",
          "name": "stdout",
          "text": [
            "Batch:50    Loss:1.71628915309906\n",
            "Batch:100    Loss:1.6937440025806427\n",
            "Batch:150    Loss:1.6862317140897114\n",
            "Epoch:3    Loss:1.6847281133642003    NumUpdates:196\n"
          ]
        },
        {
          "output_type": "stream",
          "name": "stderr",
          "text": [
            "\r 75%|███████▌  | 3/4 [13:07<04:22, 262.46s/it]"
          ]
        },
        {
          "output_type": "stream",
          "name": "stdout",
          "text": [
            "Batch:50    Loss:1.75968608379364\n",
            "Batch:100    Loss:1.7201314043998719\n",
            "Batch:150    Loss:1.7028067795435589\n",
            "Epoch:4    Loss:1.696509210430846    NumUpdates:196\n"
          ]
        },
        {
          "output_type": "stream",
          "name": "stderr",
          "text": [
            "100%|██████████| 4/4 [17:29<00:00, 262.39s/it]\n"
          ]
        },
        {
          "output_type": "stream",
          "name": "stdout",
          "text": [
            "\n",
            " GENERATION: 6 \n",
            "\n"
          ]
        },
        {
          "output_type": "stream",
          "name": "stderr",
          "text": [
            "100%|██████████| 100000/100000 [12:19<00:00, 135.25it/s]\n",
            "  0%|          | 0/4 [00:00<?, ?it/s]"
          ]
        },
        {
          "output_type": "stream",
          "name": "stdout",
          "text": [
            "Batch:50    Loss:1.7052252650260926\n",
            "Batch:100    Loss:1.6920653212070464\n",
            "Batch:150    Loss:1.687820025285085\n",
            "Epoch:1    Loss:1.6852701586119982    NumUpdates:196\n"
          ]
        },
        {
          "output_type": "stream",
          "name": "stderr",
          "text": [
            "\r 25%|██▌       | 1/4 [04:22<13:06, 262.25s/it]"
          ]
        },
        {
          "output_type": "stream",
          "name": "stdout",
          "text": [
            "Batch:50    Loss:1.6673116540908814\n",
            "Batch:100    Loss:1.66693088889122\n",
            "Batch:150    Loss:1.6696857325236003\n",
            "Epoch:2    Loss:1.6723813876813771    NumUpdates:196\n"
          ]
        },
        {
          "output_type": "stream",
          "name": "stderr",
          "text": [
            "\r 50%|█████     | 2/4 [08:44<08:44, 262.22s/it]"
          ]
        },
        {
          "output_type": "stream",
          "name": "stdout",
          "text": [
            "Batch:50    Loss:1.6856003165245057\n",
            "Batch:100    Loss:1.6782855021953582\n",
            "Batch:150    Loss:1.6736030220985412\n",
            "Epoch:3    Loss:1.673546974148069    NumUpdates:196\n"
          ]
        },
        {
          "output_type": "stream",
          "name": "stderr",
          "text": [
            "\r 75%|███████▌  | 3/4 [13:07<04:22, 262.50s/it]"
          ]
        },
        {
          "output_type": "stream",
          "name": "stdout",
          "text": [
            "Batch:50    Loss:1.6968598365783691\n",
            "Batch:100    Loss:1.6770391869544983\n",
            "Batch:150    Loss:1.67269877910614\n",
            "Epoch:4    Loss:1.670483372649368    NumUpdates:196\n"
          ]
        },
        {
          "output_type": "stream",
          "name": "stderr",
          "text": [
            "100%|██████████| 4/4 [17:29<00:00, 262.27s/it]"
          ]
        },
        {
          "output_type": "stream",
          "name": "stdout",
          "text": [
            "\n",
            " GENERATION: 7 \n",
            "\n"
          ]
        },
        {
          "output_type": "stream",
          "name": "stderr",
          "text": [
            "\n"
          ]
        }
      ]
    },
    {
      "cell_type": "code",
      "source": [
        "fig, (ax1, ax2) = plt.subplots(1, 2, figsize=(10, 5))\n",
        "\n",
        "ax1.plot(epoch_losses)\n",
        "ax1.set_xlabel(\"Epochs\")\n",
        "ax1.set_ylabel(\"Loss\")\n",
        "\n",
        "ax2.plot(iteration_losses)\n",
        "ax2.set_xlabel(\"Iterations\")\n",
        "ax2.set_ylabel(\"Loss\")\n",
        "\n",
        "plt.show()"
      ],
      "metadata": {
        "id": "r4hgcOSUxRTa",
        "colab": {
          "base_uri": "https://localhost:8080/",
          "height": 334
        },
        "outputId": "178bf5db-6810-4344-c482-965ce6b6627c"
      },
      "execution_count": null,
      "outputs": [
        {
          "output_type": "display_data",
          "data": {
            "image/png": "[encoded data removed]",
            "text/plain": [
              "<Figure size 720x360 with 2 Axes>"
            ]
          },
          "metadata": {
            "needs_background": "light"
          }
        }
      ]
    },
    {
      "cell_type": "markdown",
      "source": [
        "Two times longer train - loss function dropped to 1.5237 -> model_final_7"
      ],
      "metadata": {
        "id": "yzYoKWooyaFL"
      }
    },
    {
      "cell_type": "markdown",
      "source": [
        "## Save model"
      ],
      "metadata": {
        "id": "LMYsoW8EqWl1"
      }
    },
    {
      "cell_type": "code",
      "source": [
        "PATH = \"/content/drive/MyDrive/Colab Notebooks/01SU2/CAPTCHA/model_final_7.pt\"\n",
        "torch.save(ctc.state_dict(), PATH)"
      ],
      "metadata": {
        "id": "Qt5Hrl1TqVOp"
      },
      "execution_count": null,
      "outputs": []
    },
    {
      "cell_type": "markdown",
      "source": [
        "## Load model"
      ],
      "metadata": {
        "id": "2QrinZa7qo3p"
      }
    },
    {
      "cell_type": "code",
      "source": [
        "PATH = \"/content/drive/MyDrive/Colab Notebooks/01SU2/CAPTCHA/model_final_7.pt\"\n",
        "\n",
        "ctc = CTC(num_symbols, rnn_hidden_size=rnn_hidden_size)\n",
        "ctc.apply(weights_init)\n",
        "ctc = ctc.to(device)\n",
        "\n",
        "ctc.load_state_dict(torch.load(PATH))"
      ],
      "metadata": {
        "id": "sh6D-ajy0v8-",
        "colab": {
          "base_uri": "https://localhost:8080/"
        },
        "outputId": "47f8d46e-8f12-49fe-8029-930898ffcd65"
      },
      "execution_count": null,
      "outputs": [
        {
          "output_type": "execute_result",
          "data": {
            "text/plain": [
              "<All keys matched successfully>"
            ]
          },
          "metadata": {},
          "execution_count": 29
        }
      ]
    },
    {
      "cell_type": "markdown",
      "source": [
        "## Make predictions"
      ],
      "metadata": {
        "id": "FE9IagXJxnFx"
      }
    },
    {
      "cell_type": "code",
      "source": [
        "def decode_predictions(text_batch_logits):\n",
        "\n",
        "    text_batch_tokens = torch.nn.functional.softmax(text_batch_logits, 2).argmax(2) # [T, batch_size]\n",
        "    text_batch_tokens = text_batch_tokens.numpy().T # [batch_size, T]\n",
        "\n",
        "    text_batch_tokens_new = []\n",
        "    for text_tokens in text_batch_tokens:\n",
        "        text = [symbols_char[idx] for idx in text_tokens]\n",
        "        text = \"\".join(text)\n",
        "        text_batch_tokens_new.append(text)\n",
        "\n",
        "    return text_batch_tokens_new"
      ],
      "metadata": {
        "id": "Dujg5yyBxm0F"
      },
      "execution_count": null,
      "outputs": []
    },
    {
      "cell_type": "code",
      "source": [
        "test_labels = os.listdir('test/test')\n",
        "dataset_test = Custom_Dataset('test/test', test_labels)\n",
        "test_loader = torch.utils.data.DataLoader(dataset_test, batch_size=batch_size, num_workers=workers, shuffle=True)\n",
        "\n",
        "results_test = pd.DataFrame(columns=['actual', 'prediction'])\n",
        "# test_loader = DataLoader(testset, batch_size=16, num_workers=1, shuffle=False)\n",
        "with torch.no_grad():\n",
        "    for image_batch, text_batch in tqdm(test_loader, leave=True):\n",
        "        text_batch_logits = ctc(image_batch.to(device)) # [T, batch_size, num_classes==num_features]\n",
        "        text_batch_pred = decode_predictions(text_batch_logits.cpu())\n",
        "        #print(text_batch, text_batch_pred)\n",
        "        df = pd.DataFrame(columns=['actual', 'prediction'])\n",
        "        df['actual'] = text_batch\n",
        "        df['prediction'] = text_batch_pred\n",
        "        results_test = pd.concat([results_test, df])\n",
        "results_test = results_test.reset_index(drop=True)"
      ],
      "metadata": {
        "colab": {
          "base_uri": "https://localhost:8080/"
        },
        "id": "fSTj6R_I7mM9",
        "outputId": "f37f4a70-eda4-4b2b-9168-c3b54ddd6972"
      },
      "execution_count": null,
      "outputs": [
        {
          "output_type": "stream",
          "name": "stderr",
          "text": [
            "100%|██████████| 98/98 [01:11<00:00,  1.37it/s]\n"
          ]
        }
      ]
    },
    {
      "cell_type": "code",
      "source": [
        "def remove_duplicates(text):\n",
        "    if len(text) > 1:\n",
        "        letters = [text[0]] + [letter for idx, letter in enumerate(text[1:], start=1) if text[idx] != text[idx-1]]\n",
        "    elif len(text) == 1:\n",
        "        letters = [text[0]]\n",
        "    else:\n",
        "        return \"\"\n",
        "    return \"\".join(letters)\n",
        "\n",
        "def correct_prediction(word):\n",
        "    parts = word.split(\"-\")\n",
        "    parts = [remove_duplicates(part) for part in parts]\n",
        "    corrected_word = \"\".join(parts)\n",
        "    return corrected_word"
      ],
      "metadata": {
        "id": "mHi6kBsD2aCC"
      },
      "execution_count": null,
      "outputs": []
    },
    {
      "cell_type": "code",
      "source": [
        "results_test['prediction_corrected'] = results_test['prediction'].apply(correct_prediction)\n",
        "results_test.head()"
      ],
      "metadata": {
        "id": "zRssEyPF2fmA",
        "colab": {
          "base_uri": "https://localhost:8080/",
          "height": 206
        },
        "outputId": "99ab3dc2-20f4-4cee-d505-7c7651bdadfc"
      },
      "execution_count": null,
      "outputs": [
        {
          "output_type": "execute_result",
          "data": {
            "text/html": [
              "\n",
              "  <div id=\"df-c207356e-14e8-45a6-bd6f-6124355c01fe\">\n",
              "    <div class=\"colab-df-container\">\n",
              "      <div>\n",
              "<style scoped>\n",
              "    .dataframe tbody tr th:only-of-type {\n",
              "        vertical-align: middle;\n",
              "    }\n",
              "\n",
              "    .dataframe tbody tr th {\n",
              "        vertical-align: top;\n",
              "    }\n",
              "\n",
              "    .dataframe thead th {\n",
              "        text-align: right;\n",
              "    }\n",
              "</style>\n",
              "<table border=\"1\" class=\"dataframe\">\n",
              "  <thead>\n",
              "    <tr style=\"text-align: right;\">\n",
              "      <th></th>\n",
              "      <th>actual</th>\n",
              "      <th>prediction</th>\n",
              "      <th>prediction_corrected</th>\n",
              "    </tr>\n",
              "  </thead>\n",
              "  <tbody>\n",
              "    <tr>\n",
              "      <th>0</th>\n",
              "      <td>fmwxm9</td>\n",
              "      <td>fmmwxxm99</td>\n",
              "      <td>fmwxm9</td>\n",
              "    </tr>\n",
              "    <tr>\n",
              "      <th>1</th>\n",
              "      <td>q97ld2</td>\n",
              "      <td>q9977ld22</td>\n",
              "      <td>q97ld2</td>\n",
              "    </tr>\n",
              "    <tr>\n",
              "      <th>2</th>\n",
              "      <td>9t3npk</td>\n",
              "      <td>99t3nppkk</td>\n",
              "      <td>9t3npk</td>\n",
              "    </tr>\n",
              "    <tr>\n",
              "      <th>3</th>\n",
              "      <td>ig0dm6</td>\n",
              "      <td>igg0ddmm6</td>\n",
              "      <td>ig0dm6</td>\n",
              "    </tr>\n",
              "    <tr>\n",
              "      <th>4</th>\n",
              "      <td>kzapsw</td>\n",
              "      <td>kzaapssww</td>\n",
              "      <td>kzapsw</td>\n",
              "    </tr>\n",
              "  </tbody>\n",
              "</table>\n",
              "</div>\n",
              "      <button class=\"colab-df-convert\" onclick=\"convertToInteractive('df-c207356e-14e8-45a6-bd6f-6124355c01fe')\"\n",
              "              title=\"Convert this dataframe to an interactive table.\"\n",
              "              style=\"display:none;\">\n",
              "        \n",
              "  <svg xmlns=\"http://www.w3.org/2000/svg\" height=\"24px\"viewBox=\"0 0 24 24\"\n",
              "       width=\"24px\">\n",
              "    <path d=\"M0 0h24v24H0V0z\" fill=\"none\"/>\n",
              "    <path d=\"M18.56 5.44l.94 2.06.94-2.06 2.06-.94-2.06-.94-.94-2.06-.94 2.06-2.06.94zm-11 1L8.5 8.5l.94-2.06 2.06-.94-2.06-.94L8.5 2.5l-.94 2.06-2.06.94zm10 10l.94 2.06.94-2.06 2.06-.94-2.06-.94-.94-2.06-.94 2.06-2.06.94z\"/><path d=\"M17.41 7.96l-1.37-1.37c-.4-.4-.92-.59-1.43-.59-.52 0-1.04.2-1.43.59L10.3 9.45l-7.72 7.72c-.78.78-.78 2.05 0 2.83L4 21.41c.39.39.9.59 1.41.59.51 0 1.02-.2 1.41-.59l7.78-7.78 2.81-2.81c.8-.78.8-2.07 0-2.86zM5.41 20L4 18.59l7.72-7.72 1.47 1.35L5.41 20z\"/>\n",
              "  </svg>\n",
              "      </button>\n",
              "      \n",
              "  <style>\n",
              "    .colab-df-container {\n",
              "      display:flex;\n",
              "      flex-wrap:wrap;\n",
              "      gap: 12px;\n",
              "    }\n",
              "\n",
              "    .colab-df-convert {\n",
              "      background-color: #E8F0FE;\n",
              "      border: none;\n",
              "      border-radius: 50%;\n",
              "      cursor: pointer;\n",
              "      display: none;\n",
              "      fill: #1967D2;\n",
              "      height: 32px;\n",
              "      padding: 0 0 0 0;\n",
              "      width: 32px;\n",
              "    }\n",
              "\n",
              "    .colab-df-convert:hover {\n",
              "      background-color: #E2EBFA;\n",
              "      box-shadow: 0px 1px 2px rgba(60, 64, 67, 0.3), 0px 1px 3px 1px rgba(60, 64, 67, 0.15);\n",
              "      fill: #174EA6;\n",
              "    }\n",
              "\n",
              "    [theme=dark] .colab-df-convert {\n",
              "      background-color: #3B4455;\n",
              "      fill: #D2E3FC;\n",
              "    }\n",
              "\n",
              "    [theme=dark] .colab-df-convert:hover {\n",
              "      background-color: #434B5C;\n",
              "      box-shadow: 0px 1px 3px 1px rgba(0, 0, 0, 0.15);\n",
              "      filter: drop-shadow(0px 1px 2px rgba(0, 0, 0, 0.3));\n",
              "      fill: #FFFFFF;\n",
              "    }\n",
              "  </style>\n",
              "\n",
              "      <script>\n",
              "        const buttonEl =\n",
              "          document.querySelector('#df-c207356e-14e8-45a6-bd6f-6124355c01fe button.colab-df-convert');\n",
              "        buttonEl.style.display =\n",
              "          google.colab.kernel.accessAllowed ? 'block' : 'none';\n",
              "\n",
              "        async function convertToInteractive(key) {\n",
              "          const element = document.querySelector('#df-c207356e-14e8-45a6-bd6f-6124355c01fe');\n",
              "          const dataTable =\n",
              "            await google.colab.kernel.invokeFunction('convertToInteractive',\n",
              "                                                     [key], {});\n",
              "          if (!dataTable) return;\n",
              "\n",
              "          const docLinkHtml = 'Like what you see? Visit the ' +\n",
              "            '<a target=\"_blank\" href=https://colab.research.google.com/notebooks/data_table.ipynb>data table notebook</a>'\n",
              "            + ' to learn more about interactive tables.';\n",
              "          element.innerHTML = '';\n",
              "          dataTable['output_type'] = 'display_data';\n",
              "          await google.colab.output.renderOutput(dataTable, element);\n",
              "          const docLink = document.createElement('div');\n",
              "          docLink.innerHTML = docLinkHtml;\n",
              "          element.appendChild(docLink);\n",
              "        }\n",
              "      </script>\n",
              "    </div>\n",
              "  </div>\n",
              "  "
            ],
            "text/plain": [
              "   actual prediction prediction_corrected\n",
              "0  fmwxm9  fmmwxxm99               fmwxm9\n",
              "1  q97ld2  q9977ld22               q97ld2\n",
              "2  9t3npk  99t3nppkk               9t3npk\n",
              "3  ig0dm6  igg0ddmm6               ig0dm6\n",
              "4  kzapsw  kzaapssww               kzapsw"
            ]
          },
          "metadata": {},
          "execution_count": 33
        }
      ]
    },
    {
      "cell_type": "markdown",
      "source": [
        "# Evaluate model"
      ],
      "metadata": {
        "id": "bzx1KBSg1zrJ"
      }
    },
    {
      "cell_type": "code",
      "source": [
        "test_accuracy = accuracy_score(results_test['actual'], results_test['prediction_corrected'])\n",
        "print('Test accuracy: ', test_accuracy)"
      ],
      "metadata": {
        "id": "La75vWMD19UO",
        "colab": {
          "base_uri": "https://localhost:8080/"
        },
        "outputId": "156a44c5-f219-4d17-f466-072d338e7f42"
      },
      "execution_count": null,
      "outputs": [
        {
          "output_type": "stream",
          "name": "stdout",
          "text": [
            "Test accuracy:  0.90398\n"
          ]
        }
      ]
    },
    {
      "cell_type": "code",
      "source": [
        "# view some test images and predictions\n",
        "\n",
        "fig = plt.figure(figsize=(14,14))\n",
        "plt.axis(\"off\")\n",
        "plt.title(\"Testing Images\")\n",
        "\n",
        "for i in range(16):\n",
        "    result = results_test.iloc[i]\n",
        "    ax = fig.add_subplot(4, 4, i + 1, xticks=[], yticks=[])\n",
        "    img = mpimg.imread('test/test/{}.png'.format(result[0]))\n",
        "    ax.imshow(img, interpolation='nearest')\n",
        "    plt.title('actual: ' + result[0] + '\\n' + 'predicted: ' + result[2], color='k', fontsize=15)"
      ],
      "metadata": {
        "id": "CeA4oUBn2udz",
        "colab": {
          "base_uri": "https://localhost:8080/",
          "height": 808
        },
        "outputId": "df62c941-de99-4ced-b385-d3fd113a1ce2"
      },
      "execution_count": null,
      "outputs": [
        {
          "output_type": "display_data",
          "data": {
            "image/png": "[encoded data removed]",
            "text/plain": [
              "<Figure size 1008x1008 with 17 Axes>"
            ]
          },
          "metadata": {
            "needs_background": "light"
          }
        }
      ]
    },
    {
      "cell_type": "code",
      "source": [
        ""
      ],
      "metadata": {
        "id": "OdOYW4O7ocbG"
      },
      "execution_count": null,
      "outputs": []
    }
  ]
}